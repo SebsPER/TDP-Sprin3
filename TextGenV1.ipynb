{
  "nbformat": 4,
  "nbformat_minor": 0,
  "metadata": {
    "accelerator": "GPU",
    "colab": {
      "provenance": []
    },
    "kernelspec": {
      "display_name": "Python 3",
      "name": "python3"
    }
  },
  "cells": [
    {
      "cell_type": "code",
      "metadata": {
        "id": "BOwsuGQQY9OL"
      },
      "source": [
        "import tensorflow as tf\n",
        "\n",
        "from tensorflow.keras.preprocessing.sequence import pad_sequences\n",
        "from tensorflow.keras.layers import Embedding, LSTM, Dense, Bidirectional, Dropout\n",
        "from tensorflow.keras import regularizers\n",
        "from tensorflow.keras.preprocessing.text import Tokenizer\n",
        "from tensorflow.keras.models import Sequential, load_model\n",
        "from tensorflow.keras.optimizers import Adam\n",
        "import numpy as np "
      ],
      "execution_count": 2,
      "outputs": []
    },
    {
      "cell_type": "code",
      "metadata": {
        "id": "pylt5qZYsWPh",
        "colab": {
          "base_uri": "https://localhost:8080/"
        },
        "outputId": "69997cb0-9f56-4ae9-daa8-2cf3883df66c"
      },
      "source": [
        "!wget --no-check-certificate \\\n",
        "    https://storage.googleapis.com/laurencemoroney-blog.appspot.com/irish-lyrics-eof.txt \\\n",
        "    -O /tmp/irish-lyrics-eof.txt"
      ],
      "execution_count": null,
      "outputs": [
        {
          "output_type": "stream",
          "name": "stdout",
          "text": [
            "--2022-10-09 05:24:09--  https://storage.googleapis.com/laurencemoroney-blog.appspot.com/irish-lyrics-eof.txt\n",
            "Resolving storage.googleapis.com (storage.googleapis.com)... 173.194.193.128, 173.194.194.128, 173.194.196.128, ...\n",
            "Connecting to storage.googleapis.com (storage.googleapis.com)|173.194.193.128|:443... connected.\n",
            "HTTP request sent, awaiting response... 200 OK\n",
            "Length: 68970 (67K) [text/plain]\n",
            "Saving to: ‘/tmp/irish-lyrics-eof.txt’\n",
            "\n",
            "\r          /tmp/iris   0%[                    ]       0  --.-KB/s               \r/tmp/irish-lyrics-e 100%[===================>]  67.35K  --.-KB/s    in 0s      \n",
            "\n",
            "2022-10-09 05:24:09 (165 MB/s) - ‘/tmp/irish-lyrics-eof.txt’ saved [68970/68970]\n",
            "\n"
          ]
        }
      ]
    },
    {
      "cell_type": "code",
      "metadata": {
        "id": "PRnDnCW-Z7qv",
        "colab": {
          "base_uri": "https://localhost:8080/"
        },
        "outputId": "1d7569bb-de32-43c3-eb41-90a944f934f5"
      },
      "source": [
        "tokenizer = Tokenizer()\n",
        "\n",
        "#data = open('/tmp/irish-lyrics-eof.txt').read()\n",
        "data = open('dd.txt').read()\n",
        "\n",
        "corpus = data.lower().split(\"\\n\")\n",
        "print(len(corpus))\n",
        "\n",
        "tokenizer.fit_on_texts(corpus)\n",
        "total_words = len(tokenizer.word_index) + 1\n",
        "\n",
        "print(tokenizer.word_index)\n",
        "print(total_words)\n"
      ],
      "execution_count": 3,
      "outputs": [
        {
          "output_type": "stream",
          "name": "stdout",
          "text": [
            "347\n",
            "{'the': 1, 'a': 2, 'to': 3, 'of': 4, 'and': 5, 'is': 6, 'in': 7, 'party': 8, 'are': 9, 'has': 10, 'an': 11, 'they': 12, 'it': 13, 'that': 14, 'by': 15, 'from': 16, 'his': 17, 'their': 18, 'for': 19, 'with': 20, 'on': 21, 'town': 22, 'pcs': 23, 'but': 24, 'be': 25, 'have': 26, 'been': 27, 'city': 28, 'into': 29, 'must': 30, 'find': 31, 'all': 32, 'as': 33, 'who': 34, 'out': 35, 'or': 36, 'will': 37, 'if': 38, 'them': 39, 'one': 40, 'you': 41, 'group': 42, 'he': 43, 'powerful': 44, 'dragon': 45, 'your': 46, 'sent': 47, 'not': 48, 'local': 49, 'being': 50, 'him': 51, 'can': 52, 'players': 53, 'characters': 54, 'after': 55, 'village': 56, 'when': 57, 'magic': 58, 'only': 59, 'at': 60, 'member': 61, 'what': 62, 'her': 63, 'up': 64, 'small': 65, 'large': 66, 'dead': 67, 'while': 68, 'people': 69, 'monsters': 70, 'help': 71, 'was': 72, 'good': 73, 'where': 74, 'kill': 75, 'area': 76, 'each': 77, 'some': 78, 'its': 79, 'actually': 80, 'evil': 81, 'wants': 82, 'which': 83, 'no': 84, 'this': 85, 'before': 86, 'money': 87, 'through': 88, 'ancient': 89, 'there': 90, 'just': 91, 'god': 92, 'other': 93, 'demon': 94, 'members': 95, 'well': 96, 'back': 97, 'any': 98, 'down': 99, 'person': 100, 'gone': 101, 'turns': 102, 'great': 103, 'killing': 104, 'wizard': 105, 'over': 106, 'merchant': 107, 'stop': 108, 'two': 109, 'war': 110, 'against': 111, 'magical': 112, 'leads': 113, 'under': 114, 'missing': 115, 'fight': 116, 'orcs': 117, 'monster': 118, 'within': 119, 'hired': 120, 'found': 121, 'water': 122, 'get': 123, 'end': 124, 'cult': 125, 'kingdom': 126, 'army': 127, 'nearby': 128, 'dungeon': 129, 'etc': 130, 'finds': 131, 'massive': 132, 'cursed': 133, 'way': 134, 'giant': 135, 'man': 136, 'looking': 137, 'tavern': 138, 'now': 139, 'had': 140, 'several': 141, 'paladin': 142, 'go': 143, 'king': 144, 'mad': 145, 'everyone': 146, 'save': 147, 'temple': 148, 'once': 149, 'about': 150, 'so': 151, 'new': 152, 'strange': 153, 'recently': 154, 'fire': 155, 'offers': 156, 'she': 157, 'necromancer': 158, 'choose': 159, 'start': 160, 'inn': 161, 'owner': 162, 'attacking': 163, 'undead': 164, 'across': 165, 'artifact': 166, 'inhabitants': 167, 'trying': 168, 'peace': 169, 'ground': 170, 'trial': 171, 'anyone': 172, 'discover': 173, 'upon': 174, 'cleric': 175, 'animals': 176, 'asks': 177, 'trade': 178, 'goblins': 179, 'children': 180, 'old': 181, 'soul': 182, 'hunting': 183, 'seek': 184, 'land': 185, 'used': 186, 'put': 187, 'like': 188, 'map': 189, 'three': 190, 'finding': 191, 'then': 192, 'stealing': 193, 'lord': 194, 'mountain': 195, 'someone': 196, 'return': 197, 'lost': 198, 'countryside': 199, 'come': 200, 'night': 201, 'day': 202, 'black': 203, 'sword': 204, 'made': 205, 'armor': 206, 'leave': 207, 'make': 208, 'groups': 209, 'going': 210, 'run': 211, 'do': 212, 'character': 213, 'druid': 214, 'very': 215, 'lair': 216, 'demons': 217, 'captured': 218, 'arena': 219, 'mage': 220, 'world': 221, 'turned': 222, 'trapped': 223, 'pay': 224, 'castle': 225, 'traveling': 226, 'suspected': 227, 'creatures': 228, 'minions': 229, 'forest': 230, 'too': 231, 'themselves': 232, 'around': 233, 'power': 234, 'should': 235, \"don't\": 236, 'vampire': 237, 'between': 238, 'dwarven': 239, 'tower': 240, 'protect': 241, 'living': 242, 'body': 243, 'death': 244, 'turn': 245, 'investigate': 246, 'taken': 247, 'shield': 248, 'ghost': 249, 'rats': 250, 'caster': 251, 'npc': 252, 'hopes': 253, 'secretly': 254, 'queen': 255, 'comes': 256, 'blood': 257, 'retrieve': 258, 'bandits': 259, 'life': 260, 'lich': 261, 'destroy': 262, 'let': 263, 'ogre': 264, 'fallen': 265, 'race': 266, 'country': 267, 'red': 268, 'hand': 269, 'were': 270, \"it's\": 271, 'something': 272, 'followers': 273, 'adventurers': 274, 'asked': 275, 'know': 276, 'druids': 277, 'hidden': 278, 'girl': 279, 'bar': 280, 'control': 281, 'possessed': 282, 'discovered': 283, 'try': 284, 'goes': 285, 'time': 286, 'prevent': 287, 'disappeared': 288, 'dangerous': 289, 'hoping': 290, 'ships': 291, 'five': 292, 'ocean': 293, 'leaving': 294, 'devil': 295, 'mayor': 296, 'curse': 297, 'causing': 298, 'mysterious': 299, 'use': 300, 'daughter': 301, 'prison': 302, 'human': 303, 'far': 304, 'would': 305, 'killer': 306, 'destroying': 307, 'keeper': 308, 'order': 309, 'best': 310, 'stolen': 311, 'meet': 312, 'certain': 313, 'own': 314, 'things': 315, 'master': 316, 'home': 317, 'soon': 318, 'cave': 319, 'true': 320, 'seeks': 321, 'more': 322, 'attempt': 323, 'take': 324, 'play': 325, 'until': 326, 'want': 327, 'lead': 328, 'legendary': 329, 'family': 330, 'days': 331, 'why': 332, 'innocent': 333, 'victims': 334, 'bring': 335, 'appears': 336, 'away': 337, 'lives': 338, 'white': 339, 'genie': 340, 'noble': 341, 'need': 342, 'child': 343, 'gnome': 344, 'murder': 345, 'can’t': 346, 'claims': 347, 'gang': 348, 'fighting': 349, 'plague': 350, 'breaking': 351, 'room': 352, 'entire': 353, 'overnight': 354, 'another': 355, 'plane': 356, 'using': 357, 'every': 358, 'beneath': 359, 'pass': 360, 'weapon': 361, 'suddenly': 362, 'tries': 363, 'tribe': 364, 'meets': 365, 'travelers': 366, 'same': 367, 'identity': 368, 'duke': 369, 'see': 370, 'guards': 371, 'slave': 372, 'job': 373, 'demands': 374, 'ring': 375, 'still': 376, 'spell': 377, 'making': 378, 'everything': 379, 'wild': 380, 'sea': 381, 'deserted': 382, 'island': 383, 'complete': 384, 'past': 385, 'ruler': 386, 'guild': 387, 'clerics': 388, 'leader': 389, 'kobolds': 390, 'mine': 391, 'deliver': 392, 'held': 393, 'search': 394, 'how': 395, 'enter': 396, \"city's\": 397, 'break': 398, 'locked': 399, 'near': 400, 'fed': 401, 'mercenaries': 402, 'settlement': 403, 'thieves': 404, 'travel': 405, 'haunted': 406, 'working': 407, 'few': 408, 'weeks': 409, 'hobgoblins': 410, 'these': 411, 'ogres': 412, 'intelligent': 413, 'fey': 414, 'realize': 415, 'dark': 416, 'again': 417, 'hero': 418, 'arch': 419, 'golem': 420, 'close': 421, 'searching': 422, 'pieces': 423, 'doppelganger': 424, 'mind': 425, 'might': 426, 'expect': 427, 'serve': 428, 'creature': 429, 'whom': 430, 'thrown': 431, 'weapons': 432, 'ones': 433, 'rival': 434, 'kidnapped': 435, 'attempting': 436, 'bringing': 437, 'last': 438, 'years': 439, 'enemy': 440, 'also': 441, 'abilities': 442, 'works': 443, 'different': 444, 'residence': 445, 'think': 446, '“the': 447, 'sacred”': 448, 'located': 449, 'sides': 450, 'keep': 451, 'part': 452, 'rumors': 453, 'food': 454, 'population': 455, 'placed': 456, 'does': 457, 'differences': 458, 'having': 459, 'create': 460, 'item': 461, 'attacks': 462, 'i': 463, 'seen': 464, 'claim': 465, 'chess': 466, 'gained': 467, 'remote': 468, 'remember': 469, 'ruse': 470, 'corpse': 471, 'faith': 472, 'figure': 473, 'stopped': 474, 'beat': 475, 'himself': 476, 'gold': 477, 'seems': 478, 'most': 479, 'died': 480, 'next': 481, 'give': 482, 'souls': 483, \"you've\": 484, 'meteor': 485, 'pack': 486, 'glass': 487, 'bronze': 488, 'hoard': 489, 'either': 490, 'golden': 491, 'streets': 492, 'angry': 493, 'landed': 494, 'pyramid': 495, 'tasked': 496, 'rune': 497, 'dragon’s': 498, 'driving': 499, 'ritual': 500, 'rid': 501, 'lighthouse': 502, 'polymorphed': 503, 'selling': 504, 'rare': 505, 'towns': 506, 'capital': 507, 'threaten': 508, 'cities': 509, 'nation': 510, 'organization': 511, 'offered': 512, 'needed': 513, 'cure': 514, 'bard': 515, 'fortress': 516, 'rescue': 517, 'capture': 518, 'hells': 519, 'portal': 520, 'statues': 521, 'townsfolk': 522, 'cemetery': 523, 'raising': 524, 'object': 525, 'ball': 526, 'keeps': 527, 'gets': 528, 'eye': 529, 'hanged': 530, 'sacred': 531, 'though': 532, 'saw': 533, \"god's\": 534, 'earth': 535, 'obtain': 536, 'discovers': 537, 'properties': 538, 'long': 539, 'trolls': 540, 'earthquakes': 541, 'greater': 542, 'elemental': 543, 'ripped': 544, 'normal': 545, 'called': 546, 'leaves': 547, 'glowing': 548, 'previously': 549, 'calls': 550, 'genocide': 551, 'because': 552, 'case': 553, 'mistaken': 554, 'accused': 555, 'holding': 556, 'witch': 557, 'famous': 558, 'judge': 559, 'abandoned': 560, 'terrible': 561, 'girls': 562, 'reward': 563, 'done': 564, 'e': 565, 'g': 566, 'others': 567, 'raiding': 568, 'hands': 569, 'planning': 570, 'hit': 571, 'coming': 572, 'slowly': 573, 'turning': 574, 'shrunk': 575, 'escape': 576, 'really': 577, 'happening': 578, 'worshiping': 579, 'blame': 580, 'cause': 581, 'boat': 582, 'takes': 583, 'rock': 584, 'worm': 585, \"king's\": 586, 'establish': 587, 'hostile': 588, 'gradually': 589, 'populace': 590, 'replaced': 591, 'mutated': 592, 'disappearing': 593, 'river': 594, 'wake': 595, 'die': 596, 'forms': 597, 'demonic': 598, 'band': 599, 'graves': 600, 'society': 601, 'doers': 602, 'off': 603, 'formerly': 604, 'crimes': 605, 'raids': 606, 'efforts': 607, 'reveal': 608, 'woman': 609, 'murders': 610, 'riddle': 611, 'beasts': 612, 'farmers': 613, 'kraken': 614, 'big': 615, 'coast': 616, 'escort': 617, 'stand': 618, 'number': 619, 'caught': 620, 'bottom': 621, 'framing': 622, 'form': 623, 'caravans': 624, 'goblin': 625, 'shaman': 626, 'draw': 627, 'region': 628, 'ask': 629, 'furbolgs': 630, 'told': 631, 'hunt': 632, 'serves': 633, 'states': 634, 'young': 635, 'peer': 636, 'may': 637, 'element': 638, 'temporary': 639, 'random': 640, 'items': 641, 'allowed': 642, 'orc': 643, 'friends': 644, 'strongest': 645, 'looks': 646, \"aren't\": 647, 'choice': 648, 'forcing': 649, 'elite': 650, 'task': 651, 'force': 652, 'forces': 653, 'shards': 654, 'rising': 655, 'gatehouse': 656, 'siege': 657, 'warrior': 658, 'joins': 659, 'father': 660, 'spider': 661, 'entering': 662, 'company': 663, 'warlock': 664, 'situation': 665, 'cell': 666, 'animated': 667, 'itself': 668, 'set': 669, 'wish': 670, 'sorcerer': 671, 'chosen': 672, 'protection': 673, 'spells': 674, 'than': 675, 'newly': 676, 'gather': 677, 'reclaim': 678, 'accidentally': 679, 'released': 680, 'game': 681, 'happy': 682, 'heroes': 683, 'fortune': 684, 'lands': 685, 'mysteries': 686, 'slaves': 687, 'even': 688, 'locations': 689, 'tools': 690, 'hundreds': 691, 'those': 692, 'reality': 693, 'memories': 694, 'starts': 695, 'sleep': 696, 'collecting': 697, 'debt': 698, 'payment': 699, 'little': 700, 'package': 701, 'sage': 702, 'top': 703, 'messy': 704, 'voadkyn': 705, 'returned': 706, 'left': 707, 'piece': 708, 'killed': 709, 'questions': 710, '‘the': 711, 'doesn’t': 712, '5': 713, 'sphere': 714, 'conflict': 715, 'further': 716, 'kidnap': 717, 'drinking': 718, 'refuse': 719, 'quest': 720, 'peasants': 721, 'increase': 722, 'crazed': 723, 'horse': 724, 'horses': 725, 'succubus': 726, \"they've\": 727, 'always': 728, 'struggle': 729, 'chickens': 730, 'criminals': 731, 'together': 732, 'requires': 733, 'grave': 734, 'animal': 735, 'peculiar': 736, 'son': 737, 'knight': 738, 'weak': 739, 'kind': 740, 'erupted': 741, 'government': 742, 'aid': 743, 'gangs': 744, 'feuding': 745, 'thing': 746, 'culprit': 747, 'willing': 748, 'speak': 749, \"they're\": 750, 'important': 751, 'drink': 752, 'become': 753, 'clue': 754, 'strike': 755, 'civilization': 756, 'centuries': 757, 'recent': 758, 'opens': 759, 'hide': 760, 'sign': 761, 'champions': 762, 'final': 763, 'returns': 764, 'ravaging': 765, 'returning': 766, 'including': 767, 'letter': 768, 'crow': 769, 'abyss': 770, 'gods': 771, 'divine': 772, 'justice': 773, 'doing': 774, 'name': 775, 'raises': 776, 'offering': 777, 'getting': 778, 'needs': 779, 'week': 780, 'shop': 781, 'road': 782, 'terrorizing': 783, 'passed': 784, 'alive': 785, 'target': 786, 'means': 787, 'tunnels': 788, 'deal': 789, 'location': 790, 'strong': 791, 'dragons': 792, 'rest': 793, 'drunk': 794, 'hill': 795, 'goat': 796, 'nasty': 797, 'threatening': 798, 'extremely': 799, 'corpses': 800, 'boy': 801, 'later': 802, 'offer': 803, 'knights': 804, 'require': 805, 'present': 806, 'festival': 807, 'work': 808, 'trouble': 809, 'disappear': 810, 'high': 811, 'contract': 812, 'spend': 813, 'buildings': 814, 'shake': 815, 'lift': 816, 'stumbled': 817, 'mimic': 818, 'acting': 819, 'warforged': 820, 'humanoid': 821, 'dopplegangers': 822, 'without': 823, 'agree': 824, 'real': 825, 'werewolves': 826, 'it’s': 827, 'triton': 828, 'side': 829, 'adventuring': 830, 'raised': 831, 'kobold': 832, 'shrimp': 833, 'guardian': 834, 'havoc': 835, 'spirit': 836, 'victim': 837, 'wereraven': 838, 'full': 839, 'swarms': 840, 'flute': 841, 'mummy': 842, 'zombies': 843, 'live': 844, 'inside': 845, 'storm': 846, 'ravens': 847, 'tinkerer': 848, 'citizens': 849, 'allies': 850, 'meteorite': 851, 'crashed': 852, 'north': 853, 'scientist': 854, 'supply': 855, 'major': 856, 'turtle': 857, 'restore': 858, 'hills': 859, 'ambush': 860, 'sound': 861, 'center': 862, 'basement': 863, 'freedom': 864, 'light': 865, 'termites': 866, 'cart': 867, 'baskets': 868, 'lender': 869, 'collector': 870, 'summoned': 871, 'uncovered': 872, 'planar': 873, 'outsiders': 874, 'summon': 875, 'fiendish': 876, 'morning': 877, 'casters': 878, 'flock': 879, 'leading': 880, 'displacer': 881, 'devils': 882, 'robbers': 883, 'running': 884, 'fact': 885, 'harvest': 886, 'treant': 887, 'known': 888, 'phb2': 889, 'non': 890, 'sealed': 891, 'cultist': 892, 'begun': 893, 'arrow': 894, 'information': 895, 'tomb': 896, 'mask': 897, 'volcano': 898, 'complex': 899, 'overrun': 900, 'helm': 901, 'diplomat': 902, 'tarrasque': 903, 'simulacrum': 904, 'changeling': 905, 'led': 906, 'smith': 907, 'bag': 908, 'answer': 909, 'moon': 910, 'below': 911, 'vistaru': 912, 'surrounded': 913, 'expanding': 914, 'assault': 915, 'locals': 916, 'hear': 917, 'chants': 918, 'ruins': 919, 'half': 920, 'wolf': 921, 'assassinated': 922, 'terrorist': 923, 'wages': 924, 'gladiator': 925, 'stadium': 926, 'collect': 927, 'hires': 928, 'fabled': 929, 'instrument': 930, \"wizard's\": 931, 'coffin': 932, 'garbage': 933, 'bin': 934, 'seven': 935, 'mysteriously': 936, 'chase': 937, 'escaping': 938, 'chased': 939, 'discovering': 940, 'exploration': 941, 'gorgon': 942, 'constructing': 943, 'garden': 944, 'marble': 945, 'figurine': 946, 'bearing': 947, 'multiplying': 948, 'carrier': 949, 'crushed': 950, 'weight': 951, 'believes': 952, 'humans': 953, 'exist': 954, 'dining': 955, 'pleasure': 956, 'sinister': 957, 'catacombs': 958, 'opened': 959, 'guarded': 960, 'spear': 961, 'lesh': 962, 'cloaked': 963, 'everybody': 964, 'says': 965, 'walk': 966, 'fine': 967, 'regards': 968, 'perfect': 969, 'mate': 970, 'metal': 971, 'adamantine': 972, 'mithril': 973, 'silver': 974, 'cold': 975, 'iron': 976, 'wielded': 977, 'godly': 978, 'perhaps': 979, \"member's\": 980, 'plagued': 981, 'inexplicable': 982, 'wrath': 983, 'clueless': 984, 'miner': 985, 'thought': 986, 'gem': 987, 'headed': 988, 'direction': 989, 'claiming': 990, 'games': 991, 'earthquake': 992, 'fissures': 993, 'shakes': 994, 'directly': 995, \"kingdom's\": 996, 'righteous': 997, 'law': 998, 'adventurer': 999, 'welcome': 1000, 'smuggled': 1001, 'superstitious': 1002, 'act': 1003, 'pathway': 1004, 'house': 1005, 'friend': 1006, 'disguise': 1007, 'outrageous': 1008, 'forced': 1009, 'entertain': 1010, \"gladiator's\": 1011, 'sour': 1012, 'quick': 1013, 'metallic': 1014, 'transmutation': 1015, 'falls': 1016, 'wrong': 1017, 'raid': 1018, 'imperial': 1019, 'summons': 1020, 'unable': 1021, 'asteroid': 1022, 'mutates': 1023, 'touches': 1024, 'egg': 1025, 'sort': 1026, 'hatch': 1027, 'thick': 1028, 'inducing': 1029, 'fog': 1030, 'covering': 1031, 'thinking': 1032, 'reverse': 1033, 'illusion': 1034, 'tranquility': 1035, 'projected': 1036, 'punishes': 1037, 'happen': 1038, 'sequence': 1039, 'framed': 1040, \"didn't\": 1041, 'crossing': 1042, 'sunk': 1043, 'variety': 1044, 'saved': 1045, 'mer': 1046, 'folk': 1047, 'miles': 1048, 'mainland': 1049, 'captures': 1050, 'feed': 1051, 'wyrmlings': 1052, 'employer': 1053, 'reluctant': 1054, 'taking': 1055, 'warp': 1056, 'descends': 1057, 'isolated': 1058, 'setting': 1059, 'century': 1060, 'tax': 1061, 'collectors': 1062, 'particularly': 1063, 'convert': 1064, 'suspicion': 1065, 'arises': 1066, 'impostors': 1067, 'particular': 1068, 'becoming': 1069, 'monstrous': 1070, 'mile': 1071, 'radius': 1072, 'phantom': 1073, 'barge': 1074, 'sails': 1075, 'per': 1076, 'month': 1077, 'malevolent': 1078, 'supernatural': 1079, 'occurrences': 1080, 'pact': 1081, \"assassin's\": 1082, \"witch's\": 1083, \"farmer's\": 1084, 'crops': 1085, 'livestock': 1086, 'settling': 1087, 'rendering': 1088, 'almost': 1089, 'ineffective': 1090, 'ice': 1091, 'wind': 1092, 'greatly': 1093, 'empowering': 1094, 'robbing': 1095, 'creating': 1096, 'secret': 1097, 'vigilante': 1098, 'inflicting': 1099, 'barbaric': 1100, 'punishments': 1101, 'nobleman': 1102, 'seedy': 1103, 'disreputable': 1104, 'commoner': 1105, 'community': 1106, 'neutrally': 1107, 'aligned': 1108, 'convince': 1109, 'mean': 1110, 'harm': 1111, 'bandit': 1112, 'sprung': 1113, 'cohorts': 1114, 'occupy': 1115, 'base': 1116, 'launch': 1117, 'settlements': 1118, 'sorceress': 1119, 'unique': 1120, 'familiar': 1121, \"creature's\": 1122, 'whereabouts': 1123, 'fruitless': 1124, 'ransom': 1125, 'brigands': 1126, 'ambassador': 1127, 'en': 1128, 'route': 1129, 'traitor': 1130, 'megalomaniacal': 1131, 'nearly': 1132, 'invincible': 1133, 'somehow': 1134, 'manipulated': 1135, 'adviser': 1136, 'series': 1137, 'committed': 1138, 'mo': 1139, 'executed': 1140, 'stymied': 1141, 'remove': 1142, 'bizarre': 1143, 'desecration': 1144, 'runes': 1145, 'appear': 1146, 'door': 1147, 'hall': 1148, 'forming': 1149, 'farmer': 1150, 'breeding': 1151, 'hell': 1152, 'hounds': 1153, 'spotted': 1154, 'cattle': 1155, 'port': 1156, 'during': 1157, 'wakes': 1158, 'gate': 1159, 'growing': 1160, 'maelstrom': 1161, 'rocky': 1162, 'sucking': 1163, 'waves': 1164, 'marshals': 1165, 'droughts': 1166, 'descending': 1167, 'increasing': 1168, 'communities': 1169, 'sends': 1170, 'parlay': 1171, 'adjacent': 1172, 'contemplating': 1173, 'villagers': 1174, 'troublesome': 1175, 'dryads': 1176, 'preserve': 1177, 'encroaching': 1178, 'rehabilitate': 1179, 'messengers': 1180, 'swamp': 1181, 'timely': 1182, 'warning': 1183, 'coven': 1184, 'infiltrated': 1185, 'resists': 1186, 'extinguish': 1187, 'retrieved': 1188, 'lycanthrope': 1189, 'committing': 1190, 'mimicking': 1191, 'hybrid': 1192, 'informed': 1193, 'post': 1194, 'informant': 1195, 'raided': 1196, 'unusually': 1197, 'organized': 1198, 'ordered': 1199, 'soldiers': 1200, 'unleashing': 1201, 'bugbears': 1202, 'chest': 1203, 'hiring': 1204, 'could': 1205, 'pelts': 1206, 'orb': 1207, 'reduce': 1208, 'lifeforms': 1209, 'feral': 1210, 'enraging': 1211, 'prank': 1212, 'accepted': 1213, 'dare': 1214, 'classic': 1215, 'scenario': 1216, 'pressure': 1217, 'immunity': 1218, 'range': 1219, 'experiences': 1220, 'alterations': 1221, 'drop': 1222, 'coin': 1223, 'creek': 1224, 'cross': 1225, 'bridge': 1226, 'prideful': 1227, 'challenged': 1228, 'arm': 1229, 'wrestle': 1230, 'giving': 1231, 'wager': 1232, 'gathering': 1233, 'crystal': 1234, 'outlaws': 1235, 'wyvern': 1236, 'horizon': 1237, 'operational': 1238, 'possible': 1239, 'skilled': 1240, 'recurring': 1241, 'memory': 1242, 'disorder': 1243, 'believing': 1244, 'distinct': 1245, 'looted': 1246, 'belonged': 1247, 'identifies': 1248, 'confronts': 1249, 'attempts': 1250, 'conquer': 1251, 'cabal': 1252, 'builders': 1253, 'messenger': 1254, 'threat': 1255, 'submit': 1256, 'unleash': 1257, 'colossi': 1258, 'flooded': 1259, 'begins': 1260, 'single': 1261, 'tiny': 1262, 'window': 1263, 'barest': 1264, 'amounts': 1265, 'bread': 1266, 'deprived': 1267, 'equipment': 1268, 'captive': 1269, 'rope': 1270, 'tied': 1271, 'wrists': 1272, 'men': 1273, 'hate': 1274, 'stay': 1275, 'globe': 1276, 'enchanted': 1277, 'mirror': 1278, 'shadowy': 1279, 'copies': 1280, 'greatest': 1281, 'uncover': 1282, 'construct': 1283, 'whether': 1284, 'construction': 1285, 'sub': 1286, 'type': 1287, 'arrived': 1288, 'such': 1289, 'declared': 1290, 'monarch': 1291, 'kin': 1292, 'rightful': 1293, 'place': 1294, 'scarecrows': 1295, 'exploring': 1296, 'rundown': 1297, 'releases': 1298, 'process': 1299, 'wage': 1300, 'personal': 1301, 'internal': 1302, 'loss': 1303, 'outer': 1304, 'bleak': 1305, 'wastes': 1306, 'scriothia': 1307, 'average': 1308, 'clothing': 1309, 'supplies': 1310, 'fort': 1311, 'defend': 1312, 'treated': 1313, 'sedatives': 1314, 'drugs': 1315, 'ran': 1316, 'suffering': 1317, 'withdrawal': 1318, 'provide': 1319, 'counseling': 1320, 'ways': 1321, 'treat': 1322, 'anxiety': 1323, 'dizziness': 1324, 'smashes': 1325, 'rather': 1326, 'fame': 1327, 'depending': 1328, 'individuals': 1329, 'pays': 1330, 'steadily': 1331, 'promises': 1332, 'aboard': 1333, \"captain's\": 1334, 'ship': 1335, 'boss': 1336, 'waiting': 1337, 'explorer': 1338, 'arrives': 1339, 'binds': 1340, 'ready': 1341, 'delivered': 1342, 'wyrm': 1343, 'tossed': 1344, 'deepest': 1345, 'layer': 1346, 'facing': 1347, 'impossible': 1348, 'foe': 1349, 'minor': 1350, 'elder': 1351, 'usher': 1352, 'forth': 1353, 'clues': 1354, 'amnesia': 1355, 'natural': 1356, 'remain': 1357, 'displaying': 1358, \"player's\": 1359, 'tell': 1360, 'player': 1361, 'gaming': 1362, 'point': 1363, 'view': 1364, 'talks': 1365, 'craziness': 1366, 'happens': 1367, 'whenever': 1368, 'bed': 1369, 'constantly': 1370, 'hassled': 1371, 'pixie': 1372, 'insistent': 1373, 'anything': 1374, 'exact': 1375, 'horribly': 1376, 'private': 1377, 'humiliating': 1378, 'pizza': 1379, 'delivery': 1380, 'insult': 1381, \"tree's\": 1382, 'inhabitant': 1383, 'powers': 1384, 'tinkered': 1385, 'teleports': 1386, 'talk': 1387, 'clans': 1388, 'possibly': 1389, 'apart': 1390, 'react': 1391, '“what': 1392, 'sacred’': 1393, '”': 1394, 'except': 1395, 'stupidly': 1396, 'our': 1397, 'repeating': 1398, '“it': 1399, 'sacred’”': 1400, 'mus': 1401, 'doom': 1402, 'behalf': 1403, 'citizen': 1404, 'showing': 1405, 'annihilation': 1406, 'appeared': 1407, 'talisman': 1408, 'negotiate': 1409, 'revolt': 1410, 'overtaxed': 1411, 'oppressed': 1412, 'tyrannical': 1413, 'rulers': 1414, 'receives': 1415, 'inheritance': 1416, 'includes': 1417, 'developed': 1418, 'investigation': 1419, 'inhabited': 1420, 'grove': 1421, 'contest': 1422, 'creates': 1423, 'shortages': 1424, 'fishing': 1425, 'investigates': 1426, 'hiding': 1427, 'risen': 1428, 'loved': 1429, 'inhabits': 1430, 'graveyard': 1431, 'embassy': 1432, \"let's\": 1433, \"won't\": 1434, 'breeder': 1435, 'kills': 1436, 'feeds': 1437, 'chefs': 1438, 'better': 1439, 'prepare': 1440, 'dish': 1441, 'split': 1442, 'potent': 1443, 'pious': 1444, 'priestess': 1445, 'manifest': 1446, 'inopportune': 1447, 'times': 1448, 'conscious': 1449, \"she's\": 1450, 'controlling': 1451, 'initial': 1452, 'shock': 1453, 'argue': 1454, '100': 1455, 'worship': 1456, 'underground': 1457, 'branched': 1458, 'separate': 1459, 'branch': 1460, 'significant': 1461, 'gathered': 1462, 'unlocked': 1463, 'wise': 1464, 'blind': 1465, 'potion': 1466, 'reversing': 1467, 'describes': 1468, 'dagger': 1469, 'gathers': 1470, 'prize': 1471, 'rises': 1472, 'oblivious': 1473, 'strategy': 1474, \"town's\": 1475, 'neighboring': 1476, 'kingdoms': 1477, 'opposite': 1478, 'emissary': 1479, 'passage': 1480, 'notices': 1481, 'sitting': 1482, 'web': 1483, 'lolth': 1484, 'lines': 1485, 'read': 1486, 'desecrating': 1487, 'my': 1488, 'me': 1489, 'mul': 1490, 'athas': 1491, 'stumble': 1492, 'deposited': 1493, 'baffled': 1494, 'worlds': 1495, 'relatively': 1496, 'sic': 1497, 'hearted': 1498, 'cowardly': 1499, 'squire': 1500, 'toughen': 1501, 'riot': 1502, 'nowhere': 1503, 'turf': 1504, 'riches': 1505, 'virtuous': 1506, 'innocents': 1507, 're': 1508, 'lend': 1509, 'strength': 1510, 'factions': 1511, 'various': 1512, 'drained': 1513, 'confess': 1514, 'haunting': 1515, 'dreams': 1516, 'exchange': 1517, 'favors': 1518, 'decided': 1519, 'settle': 1520, 'picking': 1521, 'mortals': 1522, 'directing': 1523, 'sentience': 1524, 'ability': 1525, 'mostly': 1526, 'friendly': 1527, \"region's\": 1528, 'economy': 1529, 'none': 1530, 'fountain': 1531, 'spouts': 1532, 'heals': 1533, 'sickness': 1534, 'dependent': 1535, 'violent': 1536, 'approaches': 1537, 'font': 1538, 'assassin': 1539, 'loose': 1540, 'arrows': 1541, 'distinctive': 1542, 'design': 1543, 'heart': 1544, 'instantly': 1545, 'cut': 1546, 'handsomely': 1547, 'modern': 1548, 'culture': 1549, 'technology': 1550, 'chasing': 1551, 'continent': 1552, 'string': 1553, 'freak': 1554, 'ravine': 1555, 'entirely': 1556, 'stone': 1557, 'authorities': 1558, 'vanish': 1559, 'trace': 1560, 'villager': 1561, 'reasons': 1562, 'questing': 1563, 'starting': 1564, 'square': 1565, \"champion's\": 1566, 'gear': 1567, 'completes': 1568, 'built': 1569, 'ginosaji': 1570, 'joke': 1571, 'adventure': 1572, 'worked': 1573, 'bombs': 1574, 'strapped': 1575, 'chests': 1576, 'hostage': 1577, 'baron': 1578, 'symbol': 1579, 'feathers': 1580, 'grey': 1581, 'associated': 1582, 'feather': 1583, 'call': 1584, 'owl': 1585, 'dove': 1586, 'paladins': 1587, 'demi': 1588, 'beings': 1589, 'account': 1590, 'say': 1591, 'bahumut': 1592, 'primordial': 1593, 'uther': 1594, 'trickery': 1595, 'lies': 1596, \"cors'culad\": 1597, 'pirate': 1598, 'lords': 1599, 'preparing': 1600, 'inherit': 1601, 'title': 1602, 'grand': 1603, 'admiral': 1604, 'islands': 1605, 'stumbles': 1606, 'murdered': 1607, 'o': 1608, 'u': 1609, 'vast': 1610, 'sum': 1611, 'promising': 1612, 'recognize': 1613, 'track': 1614, 'whoever': 1615, 'owed': 1616, 'able': 1617, 'cash': 1618, 'honest': 1619, 'suspect': 1620, 'foul': 1621, 'answers': 1622, \"merchant's\": 1623, 'suspicious': 1624, 'theater': 1625, 'demonstrations': 1626, 'skill': 1627, 'got': 1628, 'show': 1629, 'audience': 1630, 'samey': 1631, 'cliched': 1632, 'cults': 1633, 'boring': 1634, 'practice': 1635, 'genuinely': 1636, 'intentioned': 1637, 'oppressive': 1638, 'regime': 1639, 'prominent': 1640, 'eccentric': 1641, 'shopkeeper': 1642, 'watch': 1643, \"he's\": 1644, 'ghostly': 1645, 'mounted': 1646, 'shadow': 1647, 'sighted': 1648, 'section': 1649, 'unknowingly': 1650, 'inadvertently': 1651, 'foils': 1652, 'assassination': 1653, 'assassins': 1654, 'revenge': 1655, 'foiling': 1656, 'plans': 1657, 'recipient': 1658, 'behind': 1659, 'beautiful': 1660, 'visible': 1661, 'entry': 1662, 'heavily': 1663, 'warded': 1664, 'hold': 1665, 'bumbling': 1666, 'absent': 1667, 'minded': 1668, 'fondness': 1669, 'experiments': 1670, 'tidy': 1671, 'improbably': 1672, 'floating': 1673, 'head': 1674, 'digging': 1675, 'falling': 1676, 'sinkholes': 1677, 'houses': 1678, 'collapsing': 1679, 'wits': 1680, 'existence': 1681, 'breakout': 1682, 'wing': 1683, 'bounty': 1684, 'hunters': 1685, 'imprisoned': 1686, 'lamp': 1687, 'marooned': 1688, 'uninhabited': 1689, 'face': 1690, 'foes': 1691, 'mythical': 1692, 'walks': 1693, 'alcoholic': 1694, 'dwarf': 1695, 'erupts': 1696, 'escalates': 1697, 'level': 1698, 'whole': 1699, 'becomes': 1700, 'free': 1701, 'cease': 1702, 'brawl': 1703, 'peacefully': 1704, 'join': 1705, 'shy': 1706, 'whose': 1707, 'beloved': 1708, 'pet': 1709, 'eat': 1710, 'scared': 1711, 'rabbits': 1712, 'whatever': 1713, 'fit': 1714, 'spends': 1715, 'crying': 1716, 'doorstep': 1717, 'learns': 1718, 'grandson': 1719, 'earned': 1720, 'allowance': 1721, 'rewarded': 1722, 'campaign': 1723, 'campers': 1724, 'jail': 1725, 'blocked': 1726, 'shrubbery': 1727, 'wormhole': 1728, 'shady': 1729, 'distract': 1730, 'receive': 1731, 'presented': 1732, 'rowdy': 1733, 'artist': 1734, 'muse': 1735, 'masterpiece': 1736, 'exactly': 1737, 'requests': 1738, 'quite': 1739, \"village's\": 1740, 'first': 1741, \"haven't\": 1742, 'discount': 1743, 'petition': 1744, 'hes': 1745, 'signed': 1746, 'burn': 1747, \"you'll\": 1748, 'grew': 1749, 'converted': 1750, 'model': 1751, 'skin': 1752, 'escaped': 1753, 'convicts': 1754, 'fled': 1755, 'cavern': 1756, 'monastery': 1757, 'confront': 1758, 'match': 1759, 'shrunken': 1760, 'board': 1761, '“chess”': 1762, 'win': 1763, 'specializing': 1764, 'mining': 1765, 'rust': 1766, 'emerald': 1767, 'ago': 1768, 'emitting': 1769, 'attracts': 1770, \"mayor's\": 1771, 'begged': 1772, 'eaten': 1773, 'ahead': 1774, 'spawns': 1775, 'underwater': 1776, 'maze': 1777, 'tunnel': 1778, 'structures': 1779, 'aquarium': 1780, 'tourist': 1781, 'attraction': 1782, 'claimed': 1783, 'both': 1784, \"dragon's\": 1785, 'dying': 1786, 'words': 1787, 'revealed': 1788, 'treasure': 1789, 'competing': 1790, 'herself': 1791, 'mother': 1792, 'afterlife': 1793, 'enjoy': 1794, 'furious': 1795, 'encounters': 1796, 'princess': 1797, 'potential': 1798, 'confused': 1799, 'ignore': 1800, 'move': 1801, 'sahuagin': 1802, 'stole': 1803, 'hag': 1804, 'enlists': 1805, 'supposedly': 1806, 'coral': 1807, 'colorful': 1808, 'gems': 1809, 'however': 1810, 'artificer': 1811, 'town’s': 1812, 'terrorized': 1813, 'minotaur’s': 1814, 'investigating': 1815, 'minutes': 1816, 'solving': 1817, 'allows': 1818, '\\u200bhe': 1819, 'tripped': 1820, 'axe': 1821, 'insists': 1822, 'pushed': 1823, 'murderous': 1824, 'presents': 1825, \"children's\": 1826, 'birthdays': 1827, 'multi': 1828, 'tree': 1829, 'structure': 1830, 'kenku': 1831, 'tasks': 1832, 'retrieving': 1833, 'summoning': 1834, 'traps': 1835, 'swinging': 1836, 'razor': 1837, 'blades': 1838, 'fills': 1839, 'sand': 1840, 'snakes': 1841, 'beetles': 1842, 'mummies': 1843, 'responsible': 1844, '\\u200ba': 1845, 'tornado': 1846, 'stood': 1847, 'ten': 1848, 'nervous': 1849, 'giant’s': 1850, 'shiny': 1851, 'objects': 1852, 'valuable': 1853, 'hungry': 1854, 'clockwork': 1855, 'modrons': 1856, 'patrolling': 1857, 'grateful': 1858, 'removed': 1859, 'tortle': 1860, 'lemons': 1861, 'many': 1862, 'grung': 1863, 'cannibals': 1864, 'infecting': 1865, 'figuring': 1866, 'putting': 1867, 'grell': 1868, 'gibbering': 1869, 'mouthers': 1870, 'inhabit': 1871, 'polar': 1872, 'took': 1873, 'original': 1874, 'dragonborn': 1875, 'servants': 1876, 'guard': 1877, 'drakes': 1878, 'warmth': 1879, 'dwarves': 1880, 'freeze': 1881, 'poisoned': 1882, 'makes': 1883, 'tells': 1884, 'researches': 1885, 'loyal': 1886, 'mongrelfolk': 1887, 'flesh': 1888, 'golems': 1889, 'merfolk': 1890, 'raging': 1891, 'sail': 1892, 'cultists': 1893, 'source': 1894, 'cages': 1895, 'transported': 1896, 'woodcutter': 1897, 'instead': 1898, 'plead': 1899, 'brethren': 1900, 'finally': 1901, 'camp': 1902, 'prosecution': 1903, 'defense': 1904, 'evidence': 1905, 'hasn’t': 1906, 'shipped': 1907, 'wood': 1908, 'worry': 1909, 'amnesic': 1910, 'haze': 1911, 'don’t': 1912, 'knowing': 1913, 'parents': 1914, 'unbeknownst': 1915, 'namely': 1916, 'corrupted': 1917, 'comets': 1918, 'grown': 1919, 'share': 1920, 'mentality': 1921, 'controlled': 1922, 'hive': 1923, 'reluctantly': 1924, 'check': 1925, 'stairs': 1926, 'exit': 1927, 'descend': 1928, 'opponent': 1929, 'defeated': 1930, 'oldest': 1931, 'unattended—the': 1932, 'surrounding': 1933, 'beacon': 1934, 'shattered': 1935, 'fragments': 1936, 'litter': 1937, 'beach': 1938, 'restored': 1939, 'knows': 1940, 'sect': 1941, 'infested': 1942, 'eating': 1943, 'wooden': 1944, 'site': 1945, 'charged': 1946, 'dispatching': 1947, 'basket': 1948, 'weaver': 1949, 'broken': 1950, 'sold': 1951, 'brothel': 1952, 'longer': 1953, 'torches': 1954, 'lit': 1955, 'cooked': 1956, 'kilns': 1957, 'fired': 1958, 'restricting': 1959, 'scale': 1960, 'flame': 1961, 'outside': 1962, 'news': 1963, 'spreads': 1964, 'slain': 1965, 'unguarded': 1966, 'underway': 1967, 'thief': 1968, 'troll': 1969, 'study': 1970, 'rat': 1971, 'catchers': 1972, 'spreading': 1973, 'absence': 1974, 'cannot': 1975, 'contain': 1976, 'charismatic': 1977, 'charlatan': 1978, 'proof': 1979, 'cousin': 1980, 'brother': 1981, 'wandering': 1982, 'trades': 1983, 'pc': 1984, 'fake': 1985, 'shipments': 1986, 'miners': 1987, 'covered': 1988, 'welts': 1989, 'apparently': 1990, 'exposure': 1991, 'southern': 1992, 'rift': 1993, 'formed': 1994, 'seeping': 1995, 'hosting': 1996, 'masquerade': 1997, 'guests': 1998, 'costume': 1999, 'actual': 2000, 'attends': 2001, 'age': 2002, 'creeping': 2003, 'dweomers': 2004, 'parts': 2005, 'reassembled': 2006, 'hour': 2007, 'slavers': 2008, 'capturing': 2009, 'merchants': 2010, 'highway': 2011, 'mindflayers': 2012, 'sells': 2013, 'pets': 2014, 'familiars': 2015, 'pc’s': 2016, 'hermit': 2017, '“moving': 2018, 'island”': 2019, 'zircon': 2020, 'circus': 2021, 'faire': 2022, 'completely': 2023, 'vanishes': 2024, 'ur': 2025, 'priest': 2026, 'drawn': 2027, 'animating': 2028, 'elementals': 2029, 'mephits': 2030, 'sewers': 2031, 'waging': 2032, 'guerilla': 2033, 'reads': 2034, 'book': 2035, 'brought': 2036, 'dies': 2037, 'reading': 2038, 'flowers': 2039, 'mouths': 2040, 'cartographical': 2041, 'membership': 2042, 'scavenger': 2043, 'planes': 2044, 'helmed': 2045, 'hooded': 2046, 'masked': 2047, 'forged': 2048, 'impressive': 2049, 'tribes': 2050, 'banner': 2051, 'disheartened': 2052, 'lack': 2053, 'respect': 2054, 'belief': 2055, 'prayer': 2056, 'deity': 2057, 'wolves': 2058, 'failing': 2059, 'entrance': 2060, 'cellar': 2061, 'business': 2062, 'beast': 2063, 'preying': 2064, 'farm': 2065, 'alike': 2066, 'battle': 2067, 'apprentice': 2068, 'cup': 2069, 'green': 2070, 'learn': 2071, 'contacts': 2072, 'reports': 2073, 'sick': 2074, 'disease': 2075, 'easy': 2076, 'prey': 2077, '“red”': 2078, 'demanding': 2079, 'tributes': 2080, 'especially': 2081, 'greedy': 2082, 'copper': 2083, 'stages': 2084, 'similar': 2085, '“holy': 2086, 'man”': 2087, 'relics': 2088, 'guilty': 2089, 'verdicts': 2090, 'logging': 2091, 'camped': 2092, 'haunt': 2093, 'dryad': 2094, 'wine': 2095, 'rural': 2096, 'helpful': 2097, 'aranea': 2098, 'tried': 2099, 'drider': 2100, 'resides': 2101, 'college': 2102, 'teaches': 2103, 'science': 2104, 'arcane': 2105, 'drug': 2106, 'related': 2107, 'deaths': 2108, 'alchemist': 2109, 'worshipped': 2110, 'lizardmen': 2111, 'women': 2112, 'pregnant': 2113, 'circumstances': 2114, 'incubus': 2115, 'avert': 2116, 'catastrophe': 2117, 'levistus': 2118, 'glacier': 2119, 'herb': 2120, 'grow': 2121, 'gith': 2122, 'monasteries': 2123, 'visit': 2124, 'simulacrums': 2125, 'wizards': 2126, 'mark': 2127, 'everywhere': 2128, 'distant': 2129, '20': 2130, 'conflicted': 2131, 'erinyes': 2132, 'cradle': 2133, 'creation': 2134, 'reborn': 2135, 'praetor': 2136, 'dracolich': 2137, 'dracolich’s': 2138, 'freeing': 2139, 'magically': 2140, 'orphanage': 2141, 'sacrifices': 2142, 'allow': 2143, 'teleportation': 2144, 'layers': 2145, 'tool': 2146, 'overmatched': 2147, 'marut': 2148, 'assistance': 2149, 'sword”': 2150, 'dancing': 2151, 'animate': 2152, 'battlefield': 2153, 'heirloom': 2154, 'soldier': 2155, 'tiamat': 2156, 'ages': 2157, 'eggs': 2158, 'raise': 2159, 'illusionist': 2160, 'slay': 2161, 'hundred': 2162, 'earlier': 2163, 'pull': 2164, 'skeleton': 2165, 'animates': 2166, 'add': 2167, 'clear': 2168, 'infestation': 2169, 'insects': 2170, 'invaded': 2171, 'roots': 2172, 'invited': 2173, 'ante': 2174, 'tourney': 2175, 'vips': 2176, 'lawful': 2177, 'faerun': 2178, 'zealous': 2179, 'plundered': 2180, 'burial': 2181, 'ghast': 2182, 'specter': 2183, 'continue': 2184, 'giants': 2185, 'inactive': 2186, 'activity': 2187, 'threatens': 2188, 'awaken': 2189, 'widespread': 2190, 'devastation': 2191, 'grandmotherly': 2192, 'slightly': 2193, 'senile': 2194, 'attic': 2195, 'open': 2196, 'doorway': 2197, 'owned': 2198, 'roaming': 2199, 'bottle': 2200, 'agrees': 2201, 'grant': 2202, 'wishes': 2203, 'brass': 2204, 'cares': 2205, 'wounded': 2206, 'angel': 2207, 'hunted': 2208, 'trap': 2209, 'energy': 2210, 'attributed': 2211, 'doll': 2212, 'slaymate': 2213, 'libris': 2214, 'motris': 2215, 'beholder': 2216, 'underdark': 2217, 'surface': 2218, 'drow': 2219, 'displacing': 2220, 'potions': 2221, 'poisonous': 2222, 'odd': 2223, 'effects': 2224, 'flayers': 2225, 'draining': 2226, 'quintessence': 2227, 'substance': 2228, 'realm': 2229, 'aberrations': 2230, 'came': 2231, 'spelljammer': 2232, 'jungle': 2233, 'materials': 2234, 'repair': 2235, 'foreign': 2236, 'party’s': 2237, 'monk': 2238, 'mission': 2239, 'wreaking': 2240, 'lvl': 2241, '10ish': 2242, 'slow': 2243, '20th': 2244, 'arrive': 2245, 'cr': 2246, '10': 2247, 'outsider': 2248, 'tablet': 2249, 'depicts': 2250, 'fist': 2251, 'spite': 2252, 'bovd': 2253, 'stomach': 2254, 'demiplane': 2255, 'dalmosh': 2256, 'mm5': 2257, 'cooper’s': 2258, 'discredit': 2259, 'winery': 2260, 'argument': 2261, 'poisoning': 2262, 'barrels': 2263, 'astronomer': 2264, 'convinced': 2265, 'normally': 2266, 'inert': 2267, 'gargoyles': 2268, 'atop': 2269, 'mansion': 2270, 'started': 2271, 'approach': 2272, 'building': 2273, 'bulettes': 2274, 'keeping': 2275, 'serial': 2276, 'duergar': 2277, 'traded': 2278, 'asmodeus': 2279, 'unearthly': 2280, 'crafting': 2281, 'reflects': 2282, 'multiverse': 2283, 'scaled': 2284, 'neutral': 2285, 'library': 2286, 'books': 2287, 'sages': 2288, 'librarian': 2289, 'knowledge': 2290, 'enough': 2291, 'buy': 2292, 'given': 2293, 'pocket': 2294, 'dimension': 2295, 'frightened': 2296, 'hides': 2297, 'created': 2298, 'ended': 2299, 'safe': 2300, 'forgotten': 2301, 'finishing': 2302, 'poem': 2303, 'song': 2304, 'movement': 2305, 'chaotic': 2306, 'horselord': 2307, 'cad': 2308, 'huntsman': 2309, 'npc’s': 2310, 'highly': 2311, 'trained': 2312, 'tracker': 2313, 'follow': 2314, 'trail': 2315, 'aged': 2316, 'grizzled': 2317, 'fighter': 2318, 'honorable': 2319, 'combat': 2320, 'diplomatic': 2321, 'journey': 2322, 'prince': 2323, 'strangely': 2324, 'look': 2325, 'charmed': 2326, 'pair': 2327, 'ethereal': 2328, 'filchers': 2329, 'curative': 2330, 'code': 2331, 'etched': 2332, 'onto': 2333, 'paces': 2334, 'deadly': 2335, 'monthly': 2336, 'blamed': 2337, 'lycan': 2338, 'carried': 2339, 'mm2': 2340, 'thoqqua': 2341, 'compromise': 2342, 'structural': 2343, 'integrity': 2344, 'melt': 2345, 'centaur': 2346, 'sought': 2347, 'patrons': 2348, 'desert': 2349, 'despotic': 2350, 'charges': 2351, 'impossibly': 2352, 'rates': 2353, 'fresh': 2354, 'bards': 2355, 'music': 2356, 'played': 2357, 'sun': 2358, 'sundown': 2359, 'problem': 2360, 'recalls': 2361, 'obscure': 2362, 'holiday': 2363, 'vaults': 2364, 'church': 2365, 'xenophobic': 2366, 'elvish': 2367, 'arrest': 2368, 'elves': 2369, 'eloped': 2370}\n",
            "2371\n"
          ]
        }
      ]
    },
    {
      "cell_type": "code",
      "metadata": {
        "id": "soPGVheskaQP"
      },
      "source": [
        "input_sequences = []\n",
        "for line in corpus:\n",
        "\ttoken_list = tokenizer.texts_to_sequences([line])[0]\n",
        "\tfor i in range(1, len(token_list)):\n",
        "\t\tn_gram_sequence = token_list[:i+1]\n",
        "\t\tinput_sequences.append(n_gram_sequence)\n",
        "\n",
        "# pad sequences \n",
        "max_sequence_len = max([len(x) for x in input_sequences])\n",
        "input_sequences = np.array(pad_sequences(input_sequences, maxlen=max_sequence_len, padding='pre'))\n",
        "\n",
        "# create predictors and label\n",
        "xs, labels = input_sequences[:,:-1],input_sequences[:,-1]\n",
        "\n",
        "ys = tf.keras.utils.to_categorical(labels, num_classes=total_words)"
      ],
      "execution_count": 4,
      "outputs": []
    },
    {
      "cell_type": "code",
      "metadata": {
        "id": "pJtwVB2NbOAP",
        "colab": {
          "base_uri": "https://localhost:8080/"
        },
        "outputId": "55c78637-388f-4858-a1e8-d766d70ae2d2"
      },
      "source": [
        "print(tokenizer.word_index['in'])\n",
        "print(tokenizer.word_index['the'])\n",
        "print(tokenizer.word_index['town'])\n",
        "print(tokenizer.word_index['of'])\n",
        "#print(tokenizer.word_index['athy'])\n",
        "#print(tokenizer.word_index['one'])\n",
        "#print(tokenizer.word_index['jeremy'])\n",
        "#print(tokenizer.word_index['lanigan'])"
      ],
      "execution_count": 5,
      "outputs": [
        {
          "output_type": "stream",
          "name": "stdout",
          "text": [
            "7\n",
            "1\n",
            "22\n",
            "4\n"
          ]
        }
      ]
    },
    {
      "cell_type": "code",
      "metadata": {
        "id": "49Cv68JOakwv",
        "colab": {
          "base_uri": "https://localhost:8080/"
        },
        "outputId": "079861cb-dff0-4f95-f616-d276afda4773"
      },
      "source": [
        "print(xs[6])"
      ],
      "execution_count": null,
      "outputs": [
        {
          "output_type": "stream",
          "name": "stdout",
          "text": [
            "[  0   0   0   0   0   0   0   0   0   0   0   0   0   0   0   0   0   0\n",
            "   0   0   0   0   0   0   0   0   0   0   0   0   0   0   0   0   0   0\n",
            "   0   0   0   0   0   0   0   0   0   0   0   0   0   0   0   0   0   0\n",
            "   0   0   0   0   0   0   0   0   0   0   0   0   0   0   0   0   0   0\n",
            "   0   0   0   0   0   0   0   0   0   0   0   0   0   0   0   0   0   0\n",
            " 912 194   4   1 195   6 163]\n"
          ]
        }
      ]
    },
    {
      "cell_type": "code",
      "metadata": {
        "id": "iY-jwvfgbEF8",
        "colab": {
          "base_uri": "https://localhost:8080/"
        },
        "outputId": "309a6d07-e3bb-46a8-87ca-6e855b110c21"
      },
      "source": [
        "print(ys[6])"
      ],
      "execution_count": null,
      "outputs": [
        {
          "output_type": "stream",
          "name": "stdout",
          "text": [
            "[0. 0. 0. ... 0. 0. 0.]\n"
          ]
        }
      ]
    },
    {
      "cell_type": "code",
      "metadata": {
        "id": "wtzlUMYadhKt",
        "colab": {
          "base_uri": "https://localhost:8080/"
        },
        "outputId": "2cee0b66-6966-4c94-e078-b12c62af72d9"
      },
      "source": [
        "print(xs[5])\n",
        "print(ys[5])"
      ],
      "execution_count": null,
      "outputs": [
        {
          "output_type": "stream",
          "name": "stdout",
          "text": [
            "[  0   0   0   0   0   0   0   0   0   0   0   0   0   0   0   0   0   0\n",
            "   0   0   0   0   0   0   0   0   0   0   0   0   0   0   0   0   0   0\n",
            "   0   0   0   0   0   0   0   0   0   0   0   0   0   0   0   0   0   0\n",
            "   0   0   0   0   0   0   0   0   0   0   0   0   0   0   0   0   0   0\n",
            "   0   0   0   0   0   0   0   0   0   0   0   0   0   0   0   0   0   0\n",
            "   0 912 194   4   1 195   6]\n",
            "[0. 0. 0. ... 0. 0. 0.]\n"
          ]
        }
      ]
    },
    {
      "cell_type": "code",
      "metadata": {
        "id": "H4myRpB1c4Gg",
        "colab": {
          "base_uri": "https://localhost:8080/"
        },
        "outputId": "18b2fccc-b032-49aa-e1a5-aac7e93720c0"
      },
      "source": [
        "print(tokenizer.word_index)"
      ],
      "execution_count": null,
      "outputs": [
        {
          "output_type": "stream",
          "name": "stdout",
          "text": [
            "{'the': 1, 'a': 2, 'to': 3, 'of': 4, 'and': 5, 'is': 6, 'in': 7, 'party': 8, 'are': 9, 'has': 10, 'an': 11, 'they': 12, 'it': 13, 'that': 14, 'by': 15, 'from': 16, 'his': 17, 'their': 18, 'for': 19, 'with': 20, 'on': 21, 'town': 22, 'pcs': 23, 'but': 24, 'be': 25, 'have': 26, 'been': 27, 'city': 28, 'into': 29, 'must': 30, 'find': 31, 'all': 32, 'as': 33, 'who': 34, 'out': 35, 'or': 36, 'will': 37, 'if': 38, 'them': 39, 'one': 40, 'you': 41, 'group': 42, 'he': 43, 'powerful': 44, 'dragon': 45, 'your': 46, 'sent': 47, 'not': 48, 'local': 49, 'being': 50, 'him': 51, 'can': 52, 'players': 53, 'characters': 54, 'after': 55, 'village': 56, 'when': 57, 'magic': 58, 'only': 59, 'at': 60, 'member': 61, 'what': 62, 'her': 63, 'up': 64, 'small': 65, 'large': 66, 'dead': 67, 'while': 68, 'people': 69, 'monsters': 70, 'help': 71, 'was': 72, 'good': 73, 'where': 74, 'kill': 75, 'area': 76, 'each': 77, 'some': 78, 'its': 79, 'actually': 80, 'evil': 81, 'wants': 82, 'which': 83, 'no': 84, 'this': 85, 'before': 86, 'money': 87, 'through': 88, 'ancient': 89, 'there': 90, 'just': 91, 'god': 92, 'other': 93, 'demon': 94, 'members': 95, 'well': 96, 'back': 97, 'any': 98, 'down': 99, 'person': 100, 'gone': 101, 'turns': 102, 'great': 103, 'killing': 104, 'wizard': 105, 'over': 106, 'merchant': 107, 'stop': 108, 'two': 109, 'war': 110, 'against': 111, 'magical': 112, 'leads': 113, 'under': 114, 'missing': 115, 'fight': 116, 'orcs': 117, 'monster': 118, 'within': 119, 'hired': 120, 'found': 121, 'water': 122, 'get': 123, 'end': 124, 'cult': 125, 'kingdom': 126, 'army': 127, 'nearby': 128, 'dungeon': 129, 'etc': 130, 'finds': 131, 'massive': 132, 'cursed': 133, 'way': 134, 'giant': 135, 'man': 136, 'looking': 137, 'tavern': 138, 'now': 139, 'had': 140, 'several': 141, 'paladin': 142, 'go': 143, 'king': 144, 'mad': 145, 'everyone': 146, 'save': 147, 'temple': 148, 'once': 149, 'about': 150, 'so': 151, 'new': 152, 'strange': 153, 'recently': 154, 'fire': 155, 'offers': 156, 'she': 157, 'necromancer': 158, 'choose': 159, 'start': 160, 'inn': 161, 'owner': 162, 'attacking': 163, 'undead': 164, 'across': 165, 'artifact': 166, 'inhabitants': 167, 'trying': 168, 'peace': 169, 'ground': 170, 'trial': 171, 'anyone': 172, 'discover': 173, 'upon': 174, 'cleric': 175, 'animals': 176, 'asks': 177, 'trade': 178, 'goblins': 179, 'children': 180, 'old': 181, 'soul': 182, 'hunting': 183, 'seek': 184, 'land': 185, 'used': 186, 'put': 187, 'like': 188, 'map': 189, 'three': 190, 'finding': 191, 'then': 192, 'stealing': 193, 'lord': 194, 'mountain': 195, 'someone': 196, 'return': 197, 'lost': 198, 'countryside': 199, 'come': 200, 'night': 201, 'day': 202, 'black': 203, 'sword': 204, 'made': 205, 'armor': 206, 'leave': 207, 'make': 208, 'groups': 209, 'going': 210, 'run': 211, 'do': 212, 'character': 213, 'druid': 214, 'very': 215, 'lair': 216, 'demons': 217, 'captured': 218, 'arena': 219, 'mage': 220, 'world': 221, 'turned': 222, 'trapped': 223, 'pay': 224, 'castle': 225, 'traveling': 226, 'suspected': 227, 'creatures': 228, 'minions': 229, 'forest': 230, 'too': 231, 'themselves': 232, 'around': 233, 'power': 234, 'should': 235, \"don't\": 236, 'vampire': 237, 'between': 238, 'dwarven': 239, 'tower': 240, 'protect': 241, 'living': 242, 'body': 243, 'death': 244, 'turn': 245, 'investigate': 246, 'taken': 247, 'shield': 248, 'ghost': 249, 'rats': 250, 'caster': 251, 'npc': 252, 'hopes': 253, 'secretly': 254, 'queen': 255, 'comes': 256, 'blood': 257, 'retrieve': 258, 'bandits': 259, 'life': 260, 'lich': 261, 'destroy': 262, 'let': 263, 'ogre': 264, 'fallen': 265, 'race': 266, 'country': 267, 'red': 268, 'hand': 269, 'were': 270, \"it's\": 271, 'something': 272, 'followers': 273, 'adventurers': 274, 'asked': 275, 'know': 276, 'druids': 277, 'hidden': 278, 'girl': 279, 'bar': 280, 'control': 281, 'possessed': 282, 'discovered': 283, 'try': 284, 'goes': 285, 'time': 286, 'prevent': 287, 'disappeared': 288, 'dangerous': 289, 'hoping': 290, 'ships': 291, 'five': 292, 'ocean': 293, 'leaving': 294, 'devil': 295, 'mayor': 296, 'curse': 297, 'causing': 298, 'mysterious': 299, 'use': 300, 'daughter': 301, 'prison': 302, 'human': 303, 'far': 304, 'would': 305, 'killer': 306, 'destroying': 307, 'keeper': 308, 'order': 309, 'best': 310, 'stolen': 311, 'meet': 312, 'certain': 313, 'own': 314, 'things': 315, 'master': 316, 'home': 317, 'soon': 318, 'cave': 319, 'true': 320, 'seeks': 321, 'more': 322, 'attempt': 323, 'take': 324, 'play': 325, 'until': 326, 'want': 327, 'lead': 328, 'legendary': 329, 'family': 330, 'days': 331, 'why': 332, 'innocent': 333, 'victims': 334, 'bring': 335, 'appears': 336, 'away': 337, 'lives': 338, 'white': 339, 'genie': 340, 'noble': 341, 'need': 342, 'child': 343, 'gnome': 344, 'murder': 345, 'can’t': 346, 'claims': 347, 'gang': 348, 'fighting': 349, 'plague': 350, 'breaking': 351, 'room': 352, 'entire': 353, 'overnight': 354, 'another': 355, 'plane': 356, 'using': 357, 'every': 358, 'beneath': 359, 'pass': 360, 'weapon': 361, 'suddenly': 362, 'tries': 363, 'tribe': 364, 'meets': 365, 'travelers': 366, 'same': 367, 'identity': 368, 'duke': 369, 'see': 370, 'guards': 371, 'slave': 372, 'job': 373, 'demands': 374, 'ring': 375, 'still': 376, 'spell': 377, 'making': 378, 'everything': 379, 'wild': 380, 'sea': 381, 'deserted': 382, 'island': 383, 'complete': 384, 'past': 385, 'ruler': 386, 'guild': 387, 'clerics': 388, 'leader': 389, 'kobolds': 390, 'mine': 391, 'deliver': 392, 'held': 393, 'search': 394, 'how': 395, 'enter': 396, \"city's\": 397, 'break': 398, 'locked': 399, 'near': 400, 'fed': 401, 'mercenaries': 402, 'settlement': 403, 'thieves': 404, 'travel': 405, 'haunted': 406, 'working': 407, 'few': 408, 'weeks': 409, 'hobgoblins': 410, 'these': 411, 'ogres': 412, 'intelligent': 413, 'fey': 414, 'realize': 415, 'dark': 416, 'again': 417, 'hero': 418, 'arch': 419, 'golem': 420, 'close': 421, 'searching': 422, 'pieces': 423, 'doppelganger': 424, 'mind': 425, 'might': 426, 'expect': 427, 'serve': 428, 'creature': 429, 'whom': 430, 'thrown': 431, 'weapons': 432, 'ones': 433, 'rival': 434, 'kidnapped': 435, 'attempting': 436, 'bringing': 437, 'last': 438, 'years': 439, 'enemy': 440, 'also': 441, 'abilities': 442, 'works': 443, 'different': 444, 'residence': 445, 'think': 446, '“the': 447, 'sacred”': 448, 'located': 449, 'sides': 450, 'keep': 451, 'part': 452, 'rumors': 453, 'food': 454, 'population': 455, 'placed': 456, 'does': 457, 'differences': 458, 'having': 459, 'create': 460, 'item': 461, 'attacks': 462, 'i': 463, 'seen': 464, 'claim': 465, 'chess': 466, 'gained': 467, 'remote': 468, 'remember': 469, 'ruse': 470, 'corpse': 471, 'faith': 472, 'figure': 473, 'stopped': 474, 'beat': 475, 'himself': 476, 'gold': 477, 'seems': 478, 'most': 479, 'died': 480, 'next': 481, 'give': 482, 'souls': 483, \"you've\": 484, 'meteor': 485, 'pack': 486, 'glass': 487, 'bronze': 488, 'hoard': 489, 'either': 490, 'golden': 491, 'streets': 492, 'angry': 493, 'landed': 494, 'pyramid': 495, 'tasked': 496, 'rune': 497, 'dragon’s': 498, 'driving': 499, 'ritual': 500, 'rid': 501, 'lighthouse': 502, 'polymorphed': 503, 'selling': 504, 'rare': 505, 'towns': 506, 'capital': 507, 'threaten': 508, 'cities': 509, 'nation': 510, 'organization': 511, 'offered': 512, 'needed': 513, 'cure': 514, 'bard': 515, 'fortress': 516, 'rescue': 517, 'capture': 518, 'hells': 519, 'portal': 520, 'statues': 521, 'townsfolk': 522, 'cemetery': 523, 'raising': 524, 'object': 525, 'ball': 526, 'keeps': 527, 'gets': 528, 'eye': 529, 'hanged': 530, 'sacred': 531, 'though': 532, 'saw': 533, \"god's\": 534, 'earth': 535, 'obtain': 536, 'discovers': 537, 'properties': 538, 'long': 539, 'trolls': 540, 'earthquakes': 541, 'greater': 542, 'elemental': 543, 'ripped': 544, 'normal': 545, 'called': 546, 'leaves': 547, 'glowing': 548, 'previously': 549, 'calls': 550, 'genocide': 551, 'because': 552, 'case': 553, 'mistaken': 554, 'accused': 555, 'holding': 556, 'witch': 557, 'famous': 558, 'judge': 559, 'abandoned': 560, 'terrible': 561, 'girls': 562, 'reward': 563, 'done': 564, 'e': 565, 'g': 566, 'others': 567, 'raiding': 568, 'hands': 569, 'planning': 570, 'hit': 571, 'coming': 572, 'slowly': 573, 'turning': 574, 'shrunk': 575, 'escape': 576, 'really': 577, 'happening': 578, 'worshiping': 579, 'blame': 580, 'cause': 581, 'boat': 582, 'takes': 583, 'rock': 584, 'worm': 585, \"king's\": 586, 'establish': 587, 'hostile': 588, 'gradually': 589, 'populace': 590, 'replaced': 591, 'mutated': 592, 'disappearing': 593, 'river': 594, 'wake': 595, 'die': 596, 'forms': 597, 'demonic': 598, 'band': 599, 'graves': 600, 'society': 601, 'doers': 602, 'off': 603, 'formerly': 604, 'crimes': 605, 'raids': 606, 'efforts': 607, 'reveal': 608, 'woman': 609, 'murders': 610, 'riddle': 611, 'beasts': 612, 'farmers': 613, 'kraken': 614, 'big': 615, 'coast': 616, 'escort': 617, 'stand': 618, 'number': 619, 'caught': 620, 'bottom': 621, 'framing': 622, 'form': 623, 'caravans': 624, 'goblin': 625, 'shaman': 626, 'draw': 627, 'region': 628, 'ask': 629, 'furbolgs': 630, 'told': 631, 'hunt': 632, 'serves': 633, 'states': 634, 'young': 635, 'peer': 636, 'may': 637, 'element': 638, 'temporary': 639, 'random': 640, 'items': 641, 'allowed': 642, 'orc': 643, 'friends': 644, 'strongest': 645, 'looks': 646, \"aren't\": 647, 'choice': 648, 'forcing': 649, 'elite': 650, 'task': 651, 'force': 652, 'forces': 653, 'shards': 654, 'rising': 655, 'gatehouse': 656, 'siege': 657, 'warrior': 658, 'joins': 659, 'father': 660, 'spider': 661, 'entering': 662, 'company': 663, 'warlock': 664, 'situation': 665, 'cell': 666, 'animated': 667, 'itself': 668, 'set': 669, 'wish': 670, 'sorcerer': 671, 'chosen': 672, 'protection': 673, 'spells': 674, 'than': 675, 'newly': 676, 'gather': 677, 'reclaim': 678, 'accidentally': 679, 'released': 680, 'game': 681, 'happy': 682, 'heroes': 683, 'fortune': 684, 'lands': 685, 'mysteries': 686, 'slaves': 687, 'even': 688, 'locations': 689, 'tools': 690, 'hundreds': 691, 'those': 692, 'reality': 693, 'memories': 694, 'starts': 695, 'sleep': 696, 'collecting': 697, 'debt': 698, 'payment': 699, 'little': 700, 'package': 701, 'sage': 702, 'top': 703, 'messy': 704, 'voadkyn': 705, 'returned': 706, 'left': 707, 'piece': 708, 'killed': 709, 'questions': 710, '‘the': 711, 'doesn’t': 712, '5': 713, 'sphere': 714, 'conflict': 715, 'further': 716, 'kidnap': 717, 'drinking': 718, 'refuse': 719, 'quest': 720, 'peasants': 721, 'increase': 722, 'crazed': 723, 'horse': 724, 'horses': 725, 'succubus': 726, \"they've\": 727, 'always': 728, 'struggle': 729, 'chickens': 730, 'criminals': 731, 'together': 732, 'requires': 733, 'grave': 734, 'animal': 735, 'peculiar': 736, 'son': 737, 'knight': 738, 'weak': 739, 'kind': 740, 'erupted': 741, 'government': 742, 'aid': 743, 'gangs': 744, 'feuding': 745, 'thing': 746, 'culprit': 747, 'willing': 748, 'speak': 749, \"they're\": 750, 'important': 751, 'drink': 752, 'become': 753, 'clue': 754, 'strike': 755, 'civilization': 756, 'centuries': 757, 'recent': 758, 'opens': 759, 'hide': 760, 'sign': 761, 'champions': 762, 'final': 763, 'returns': 764, 'ravaging': 765, 'returning': 766, 'including': 767, 'letter': 768, 'crow': 769, 'abyss': 770, 'gods': 771, 'divine': 772, 'justice': 773, 'doing': 774, 'name': 775, 'raises': 776, 'offering': 777, 'getting': 778, 'needs': 779, 'week': 780, 'shop': 781, 'road': 782, 'terrorizing': 783, 'passed': 784, 'alive': 785, 'target': 786, 'means': 787, 'tunnels': 788, 'deal': 789, 'location': 790, 'strong': 791, 'dragons': 792, 'rest': 793, 'drunk': 794, 'hill': 795, 'goat': 796, 'nasty': 797, 'threatening': 798, 'extremely': 799, 'corpses': 800, 'boy': 801, 'later': 802, 'offer': 803, 'knights': 804, 'require': 805, 'present': 806, 'festival': 807, 'work': 808, 'trouble': 809, 'disappear': 810, 'high': 811, 'contract': 812, 'spend': 813, 'buildings': 814, 'shake': 815, 'lift': 816, 'stumbled': 817, 'mimic': 818, 'acting': 819, 'warforged': 820, 'humanoid': 821, 'dopplegangers': 822, 'without': 823, 'agree': 824, 'real': 825, 'werewolves': 826, 'it’s': 827, 'triton': 828, 'side': 829, 'adventuring': 830, 'raised': 831, 'kobold': 832, 'shrimp': 833, 'guardian': 834, 'havoc': 835, 'spirit': 836, 'victim': 837, 'wereraven': 838, 'full': 839, 'swarms': 840, 'flute': 841, 'mummy': 842, 'zombies': 843, 'live': 844, 'inside': 845, 'storm': 846, 'ravens': 847, 'tinkerer': 848, 'citizens': 849, 'allies': 850, 'meteorite': 851, 'crashed': 852, 'north': 853, 'scientist': 854, 'supply': 855, 'major': 856, 'turtle': 857, 'restore': 858, 'hills': 859, 'ambush': 860, 'sound': 861, 'center': 862, 'basement': 863, 'freedom': 864, 'light': 865, 'termites': 866, 'cart': 867, 'baskets': 868, 'lender': 869, 'collector': 870, 'summoned': 871, 'uncovered': 872, 'planar': 873, 'outsiders': 874, 'summon': 875, 'fiendish': 876, 'morning': 877, 'casters': 878, 'flock': 879, 'leading': 880, 'displacer': 881, 'devils': 882, 'robbers': 883, 'running': 884, 'fact': 885, 'harvest': 886, 'treant': 887, 'known': 888, 'phb2': 889, 'non': 890, 'sealed': 891, 'cultist': 892, 'begun': 893, 'arrow': 894, 'information': 895, 'tomb': 896, 'mask': 897, 'volcano': 898, 'complex': 899, 'overrun': 900, 'helm': 901, 'diplomat': 902, 'tarrasque': 903, 'simulacrum': 904, 'changeling': 905, 'led': 906, 'smith': 907, 'bag': 908, 'answer': 909, 'moon': 910, 'below': 911, 'vistaru': 912, 'surrounded': 913, 'expanding': 914, 'assault': 915, 'locals': 916, 'hear': 917, 'chants': 918, 'ruins': 919, 'half': 920, 'wolf': 921, 'assassinated': 922, 'terrorist': 923, 'wages': 924, 'gladiator': 925, 'stadium': 926, 'collect': 927, 'hires': 928, 'fabled': 929, 'instrument': 930, \"wizard's\": 931, 'coffin': 932, 'garbage': 933, 'bin': 934, 'seven': 935, 'mysteriously': 936, 'chase': 937, 'escaping': 938, 'chased': 939, 'discovering': 940, 'exploration': 941, 'gorgon': 942, 'constructing': 943, 'garden': 944, 'marble': 945, 'figurine': 946, 'bearing': 947, 'multiplying': 948, 'carrier': 949, 'crushed': 950, 'weight': 951, 'believes': 952, 'humans': 953, 'exist': 954, 'dining': 955, 'pleasure': 956, 'sinister': 957, 'catacombs': 958, 'opened': 959, 'guarded': 960, 'spear': 961, 'lesh': 962, 'cloaked': 963, 'everybody': 964, 'says': 965, 'walk': 966, 'fine': 967, 'regards': 968, 'perfect': 969, 'mate': 970, 'metal': 971, 'adamantine': 972, 'mithril': 973, 'silver': 974, 'cold': 975, 'iron': 976, 'wielded': 977, 'godly': 978, 'perhaps': 979, \"member's\": 980, 'plagued': 981, 'inexplicable': 982, 'wrath': 983, 'clueless': 984, 'miner': 985, 'thought': 986, 'gem': 987, 'headed': 988, 'direction': 989, 'claiming': 990, 'games': 991, 'earthquake': 992, 'fissures': 993, 'shakes': 994, 'directly': 995, \"kingdom's\": 996, 'righteous': 997, 'law': 998, 'adventurer': 999, 'welcome': 1000, 'smuggled': 1001, 'superstitious': 1002, 'act': 1003, 'pathway': 1004, 'house': 1005, 'friend': 1006, 'disguise': 1007, 'outrageous': 1008, 'forced': 1009, 'entertain': 1010, \"gladiator's\": 1011, 'sour': 1012, 'quick': 1013, 'metallic': 1014, 'transmutation': 1015, 'falls': 1016, 'wrong': 1017, 'raid': 1018, 'imperial': 1019, 'summons': 1020, 'unable': 1021, 'asteroid': 1022, 'mutates': 1023, 'touches': 1024, 'egg': 1025, 'sort': 1026, 'hatch': 1027, 'thick': 1028, 'inducing': 1029, 'fog': 1030, 'covering': 1031, 'thinking': 1032, 'reverse': 1033, 'illusion': 1034, 'tranquility': 1035, 'projected': 1036, 'punishes': 1037, 'happen': 1038, 'sequence': 1039, 'framed': 1040, \"didn't\": 1041, 'crossing': 1042, 'sunk': 1043, 'variety': 1044, 'saved': 1045, 'mer': 1046, 'folk': 1047, 'miles': 1048, 'mainland': 1049, 'captures': 1050, 'feed': 1051, 'wyrmlings': 1052, 'employer': 1053, 'reluctant': 1054, 'taking': 1055, 'warp': 1056, 'descends': 1057, 'isolated': 1058, 'setting': 1059, 'century': 1060, 'tax': 1061, 'collectors': 1062, 'particularly': 1063, 'convert': 1064, 'suspicion': 1065, 'arises': 1066, 'impostors': 1067, 'particular': 1068, 'becoming': 1069, 'monstrous': 1070, 'mile': 1071, 'radius': 1072, 'phantom': 1073, 'barge': 1074, 'sails': 1075, 'per': 1076, 'month': 1077, 'malevolent': 1078, 'supernatural': 1079, 'occurrences': 1080, 'pact': 1081, \"assassin's\": 1082, \"witch's\": 1083, \"farmer's\": 1084, 'crops': 1085, 'livestock': 1086, 'settling': 1087, 'rendering': 1088, 'almost': 1089, 'ineffective': 1090, 'ice': 1091, 'wind': 1092, 'greatly': 1093, 'empowering': 1094, 'robbing': 1095, 'creating': 1096, 'secret': 1097, 'vigilante': 1098, 'inflicting': 1099, 'barbaric': 1100, 'punishments': 1101, 'nobleman': 1102, 'seedy': 1103, 'disreputable': 1104, 'commoner': 1105, 'community': 1106, 'neutrally': 1107, 'aligned': 1108, 'convince': 1109, 'mean': 1110, 'harm': 1111, 'bandit': 1112, 'sprung': 1113, 'cohorts': 1114, 'occupy': 1115, 'base': 1116, 'launch': 1117, 'settlements': 1118, 'sorceress': 1119, 'unique': 1120, 'familiar': 1121, \"creature's\": 1122, 'whereabouts': 1123, 'fruitless': 1124, 'ransom': 1125, 'brigands': 1126, 'ambassador': 1127, 'en': 1128, 'route': 1129, 'traitor': 1130, 'megalomaniacal': 1131, 'nearly': 1132, 'invincible': 1133, 'somehow': 1134, 'manipulated': 1135, 'adviser': 1136, 'series': 1137, 'committed': 1138, 'mo': 1139, 'executed': 1140, 'stymied': 1141, 'remove': 1142, 'bizarre': 1143, 'desecration': 1144, 'runes': 1145, 'appear': 1146, 'door': 1147, 'hall': 1148, 'forming': 1149, 'farmer': 1150, 'breeding': 1151, 'hell': 1152, 'hounds': 1153, 'spotted': 1154, 'cattle': 1155, 'port': 1156, 'during': 1157, 'wakes': 1158, 'gate': 1159, 'growing': 1160, 'maelstrom': 1161, 'rocky': 1162, 'sucking': 1163, 'waves': 1164, 'marshals': 1165, 'droughts': 1166, 'descending': 1167, 'increasing': 1168, 'communities': 1169, 'sends': 1170, 'parlay': 1171, 'adjacent': 1172, 'contemplating': 1173, 'villagers': 1174, 'troublesome': 1175, 'dryads': 1176, 'preserve': 1177, 'encroaching': 1178, 'rehabilitate': 1179, 'messengers': 1180, 'swamp': 1181, 'timely': 1182, 'warning': 1183, 'coven': 1184, 'infiltrated': 1185, 'resists': 1186, 'extinguish': 1187, 'retrieved': 1188, 'lycanthrope': 1189, 'committing': 1190, 'mimicking': 1191, 'hybrid': 1192, 'informed': 1193, 'post': 1194, 'informant': 1195, 'raided': 1196, 'unusually': 1197, 'organized': 1198, 'ordered': 1199, 'soldiers': 1200, 'unleashing': 1201, 'bugbears': 1202, 'chest': 1203, 'hiring': 1204, 'could': 1205, 'pelts': 1206, 'orb': 1207, 'reduce': 1208, 'lifeforms': 1209, 'feral': 1210, 'enraging': 1211, 'prank': 1212, 'accepted': 1213, 'dare': 1214, 'classic': 1215, 'scenario': 1216, 'pressure': 1217, 'immunity': 1218, 'range': 1219, 'experiences': 1220, 'alterations': 1221, 'drop': 1222, 'coin': 1223, 'creek': 1224, 'cross': 1225, 'bridge': 1226, 'prideful': 1227, 'challenged': 1228, 'arm': 1229, 'wrestle': 1230, 'giving': 1231, 'wager': 1232, 'gathering': 1233, 'crystal': 1234, 'outlaws': 1235, 'wyvern': 1236, 'horizon': 1237, 'operational': 1238, 'possible': 1239, 'skilled': 1240, 'recurring': 1241, 'memory': 1242, 'disorder': 1243, 'believing': 1244, 'distinct': 1245, 'looted': 1246, 'belonged': 1247, 'identifies': 1248, 'confronts': 1249, 'attempts': 1250, 'conquer': 1251, 'cabal': 1252, 'builders': 1253, 'messenger': 1254, 'threat': 1255, 'submit': 1256, 'unleash': 1257, 'colossi': 1258, 'flooded': 1259, 'begins': 1260, 'single': 1261, 'tiny': 1262, 'window': 1263, 'barest': 1264, 'amounts': 1265, 'bread': 1266, 'deprived': 1267, 'equipment': 1268, 'captive': 1269, 'rope': 1270, 'tied': 1271, 'wrists': 1272, 'men': 1273, 'hate': 1274, 'stay': 1275, 'globe': 1276, 'enchanted': 1277, 'mirror': 1278, 'shadowy': 1279, 'copies': 1280, 'greatest': 1281, 'uncover': 1282, 'construct': 1283, 'whether': 1284, 'construction': 1285, 'sub': 1286, 'type': 1287, 'arrived': 1288, 'such': 1289, 'declared': 1290, 'monarch': 1291, 'kin': 1292, 'rightful': 1293, 'place': 1294, 'scarecrows': 1295, 'exploring': 1296, 'rundown': 1297, 'releases': 1298, 'process': 1299, 'wage': 1300, 'personal': 1301, 'internal': 1302, 'loss': 1303, 'outer': 1304, 'bleak': 1305, 'wastes': 1306, 'scriothia': 1307, 'average': 1308, 'clothing': 1309, 'supplies': 1310, 'fort': 1311, 'defend': 1312, 'treated': 1313, 'sedatives': 1314, 'drugs': 1315, 'ran': 1316, 'suffering': 1317, 'withdrawal': 1318, 'provide': 1319, 'counseling': 1320, 'ways': 1321, 'treat': 1322, 'anxiety': 1323, 'dizziness': 1324, 'smashes': 1325, 'rather': 1326, 'fame': 1327, 'depending': 1328, 'individuals': 1329, 'pays': 1330, 'steadily': 1331, 'promises': 1332, 'aboard': 1333, \"captain's\": 1334, 'ship': 1335, 'boss': 1336, 'waiting': 1337, 'explorer': 1338, 'arrives': 1339, 'binds': 1340, 'ready': 1341, 'delivered': 1342, 'wyrm': 1343, 'tossed': 1344, 'deepest': 1345, 'layer': 1346, 'facing': 1347, 'impossible': 1348, 'foe': 1349, 'minor': 1350, 'elder': 1351, 'usher': 1352, 'forth': 1353, 'clues': 1354, 'amnesia': 1355, 'natural': 1356, 'remain': 1357, 'displaying': 1358, \"player's\": 1359, 'tell': 1360, 'player': 1361, 'gaming': 1362, 'point': 1363, 'view': 1364, 'talks': 1365, 'craziness': 1366, 'happens': 1367, 'whenever': 1368, 'bed': 1369, 'constantly': 1370, 'hassled': 1371, 'pixie': 1372, 'insistent': 1373, 'anything': 1374, 'exact': 1375, 'horribly': 1376, 'private': 1377, 'humiliating': 1378, 'pizza': 1379, 'delivery': 1380, 'insult': 1381, \"tree's\": 1382, 'inhabitant': 1383, 'powers': 1384, 'tinkered': 1385, 'teleports': 1386, 'talk': 1387, 'clans': 1388, 'possibly': 1389, 'apart': 1390, 'react': 1391, '“what': 1392, 'sacred’': 1393, '”': 1394, 'except': 1395, 'stupidly': 1396, 'our': 1397, 'repeating': 1398, '“it': 1399, 'sacred’”': 1400, 'mus': 1401, 'doom': 1402, 'behalf': 1403, 'citizen': 1404, 'showing': 1405, 'annihilation': 1406, 'appeared': 1407, 'talisman': 1408, 'negotiate': 1409, 'revolt': 1410, 'overtaxed': 1411, 'oppressed': 1412, 'tyrannical': 1413, 'rulers': 1414, 'receives': 1415, 'inheritance': 1416, 'includes': 1417, 'developed': 1418, 'investigation': 1419, 'inhabited': 1420, 'grove': 1421, 'contest': 1422, 'creates': 1423, 'shortages': 1424, 'fishing': 1425, 'investigates': 1426, 'hiding': 1427, 'risen': 1428, 'loved': 1429, 'inhabits': 1430, 'graveyard': 1431, 'embassy': 1432, \"let's\": 1433, \"won't\": 1434, 'breeder': 1435, 'kills': 1436, 'feeds': 1437, 'chefs': 1438, 'better': 1439, 'prepare': 1440, 'dish': 1441, 'split': 1442, 'potent': 1443, 'pious': 1444, 'priestess': 1445, 'manifest': 1446, 'inopportune': 1447, 'times': 1448, 'conscious': 1449, \"she's\": 1450, 'controlling': 1451, 'initial': 1452, 'shock': 1453, 'argue': 1454, '100': 1455, 'worship': 1456, 'underground': 1457, 'branched': 1458, 'separate': 1459, 'branch': 1460, 'significant': 1461, 'gathered': 1462, 'unlocked': 1463, 'wise': 1464, 'blind': 1465, 'potion': 1466, 'reversing': 1467, 'describes': 1468, 'dagger': 1469, 'gathers': 1470, 'prize': 1471, 'rises': 1472, 'oblivious': 1473, 'strategy': 1474, \"town's\": 1475, 'neighboring': 1476, 'kingdoms': 1477, 'opposite': 1478, 'emissary': 1479, 'passage': 1480, 'notices': 1481, 'sitting': 1482, 'web': 1483, 'lolth': 1484, 'lines': 1485, 'read': 1486, 'desecrating': 1487, 'my': 1488, 'me': 1489, 'mul': 1490, 'athas': 1491, 'stumble': 1492, 'deposited': 1493, 'baffled': 1494, 'worlds': 1495, 'relatively': 1496, 'sic': 1497, 'hearted': 1498, 'cowardly': 1499, 'squire': 1500, 'toughen': 1501, 'riot': 1502, 'nowhere': 1503, 'turf': 1504, 'riches': 1505, 'virtuous': 1506, 'innocents': 1507, 're': 1508, 'lend': 1509, 'strength': 1510, 'factions': 1511, 'various': 1512, 'drained': 1513, 'confess': 1514, 'haunting': 1515, 'dreams': 1516, 'exchange': 1517, 'favors': 1518, 'decided': 1519, 'settle': 1520, 'picking': 1521, 'mortals': 1522, 'directing': 1523, 'sentience': 1524, 'ability': 1525, 'mostly': 1526, 'friendly': 1527, \"region's\": 1528, 'economy': 1529, 'none': 1530, 'fountain': 1531, 'spouts': 1532, 'heals': 1533, 'sickness': 1534, 'dependent': 1535, 'violent': 1536, 'approaches': 1537, 'font': 1538, 'assassin': 1539, 'loose': 1540, 'arrows': 1541, 'distinctive': 1542, 'design': 1543, 'heart': 1544, 'instantly': 1545, 'cut': 1546, 'handsomely': 1547, 'modern': 1548, 'culture': 1549, 'technology': 1550, 'chasing': 1551, 'continent': 1552, 'string': 1553, 'freak': 1554, 'ravine': 1555, 'entirely': 1556, 'stone': 1557, 'authorities': 1558, 'vanish': 1559, 'trace': 1560, 'villager': 1561, 'reasons': 1562, 'questing': 1563, 'starting': 1564, 'square': 1565, \"champion's\": 1566, 'gear': 1567, 'completes': 1568, 'built': 1569, 'ginosaji': 1570, 'joke': 1571, 'adventure': 1572, 'worked': 1573, 'bombs': 1574, 'strapped': 1575, 'chests': 1576, 'hostage': 1577, 'baron': 1578, 'symbol': 1579, 'feathers': 1580, 'grey': 1581, 'associated': 1582, 'feather': 1583, 'call': 1584, 'owl': 1585, 'dove': 1586, 'paladins': 1587, 'demi': 1588, 'beings': 1589, 'account': 1590, 'say': 1591, 'bahumut': 1592, 'primordial': 1593, 'uther': 1594, 'trickery': 1595, 'lies': 1596, \"cors'culad\": 1597, 'pirate': 1598, 'lords': 1599, 'preparing': 1600, 'inherit': 1601, 'title': 1602, 'grand': 1603, 'admiral': 1604, 'islands': 1605, 'stumbles': 1606, 'murdered': 1607, 'o': 1608, 'u': 1609, 'vast': 1610, 'sum': 1611, 'promising': 1612, 'recognize': 1613, 'track': 1614, 'whoever': 1615, 'owed': 1616, 'able': 1617, 'cash': 1618, 'honest': 1619, 'suspect': 1620, 'foul': 1621, 'answers': 1622, \"merchant's\": 1623, 'suspicious': 1624, 'theater': 1625, 'demonstrations': 1626, 'skill': 1627, 'got': 1628, 'show': 1629, 'audience': 1630, 'samey': 1631, 'cliched': 1632, 'cults': 1633, 'boring': 1634, 'practice': 1635, 'genuinely': 1636, 'intentioned': 1637, 'oppressive': 1638, 'regime': 1639, 'prominent': 1640, 'eccentric': 1641, 'shopkeeper': 1642, 'watch': 1643, \"he's\": 1644, 'ghostly': 1645, 'mounted': 1646, 'shadow': 1647, 'sighted': 1648, 'section': 1649, 'unknowingly': 1650, 'inadvertently': 1651, 'foils': 1652, 'assassination': 1653, 'assassins': 1654, 'revenge': 1655, 'foiling': 1656, 'plans': 1657, 'recipient': 1658, 'behind': 1659, 'beautiful': 1660, 'visible': 1661, 'entry': 1662, 'heavily': 1663, 'warded': 1664, 'hold': 1665, 'bumbling': 1666, 'absent': 1667, 'minded': 1668, 'fondness': 1669, 'experiments': 1670, 'tidy': 1671, 'improbably': 1672, 'floating': 1673, 'head': 1674, 'digging': 1675, 'falling': 1676, 'sinkholes': 1677, 'houses': 1678, 'collapsing': 1679, 'wits': 1680, 'existence': 1681, 'breakout': 1682, 'wing': 1683, 'bounty': 1684, 'hunters': 1685, 'imprisoned': 1686, 'lamp': 1687, 'marooned': 1688, 'uninhabited': 1689, 'face': 1690, 'foes': 1691, 'mythical': 1692, 'walks': 1693, 'alcoholic': 1694, 'dwarf': 1695, 'erupts': 1696, 'escalates': 1697, 'level': 1698, 'whole': 1699, 'becomes': 1700, 'free': 1701, 'cease': 1702, 'brawl': 1703, 'peacefully': 1704, 'join': 1705, 'shy': 1706, 'whose': 1707, 'beloved': 1708, 'pet': 1709, 'eat': 1710, 'scared': 1711, 'rabbits': 1712, 'whatever': 1713, 'fit': 1714, 'spends': 1715, 'crying': 1716, 'doorstep': 1717, 'learns': 1718, 'grandson': 1719, 'earned': 1720, 'allowance': 1721, 'rewarded': 1722, 'campaign': 1723, 'campers': 1724, 'jail': 1725, 'blocked': 1726, 'shrubbery': 1727, 'wormhole': 1728, 'shady': 1729, 'distract': 1730, 'receive': 1731, 'presented': 1732, 'rowdy': 1733, 'artist': 1734, 'muse': 1735, 'masterpiece': 1736, 'exactly': 1737, 'requests': 1738, 'quite': 1739, \"village's\": 1740, 'first': 1741, \"haven't\": 1742, 'discount': 1743, 'petition': 1744, 'hes': 1745, 'signed': 1746, 'burn': 1747, \"you'll\": 1748, 'grew': 1749, 'converted': 1750, 'model': 1751, 'skin': 1752, 'escaped': 1753, 'convicts': 1754, 'fled': 1755, 'cavern': 1756, 'monastery': 1757, 'confront': 1758, 'match': 1759, 'shrunken': 1760, 'board': 1761, '“chess”': 1762, 'win': 1763, 'specializing': 1764, 'mining': 1765, 'rust': 1766, 'emerald': 1767, 'ago': 1768, 'emitting': 1769, 'attracts': 1770, \"mayor's\": 1771, 'begged': 1772, 'eaten': 1773, 'ahead': 1774, 'spawns': 1775, 'underwater': 1776, 'maze': 1777, 'tunnel': 1778, 'structures': 1779, 'aquarium': 1780, 'tourist': 1781, 'attraction': 1782, 'claimed': 1783, 'both': 1784, \"dragon's\": 1785, 'dying': 1786, 'words': 1787, 'revealed': 1788, 'treasure': 1789, 'competing': 1790, 'herself': 1791, 'mother': 1792, 'afterlife': 1793, 'enjoy': 1794, 'furious': 1795, 'encounters': 1796, 'princess': 1797, 'potential': 1798, 'confused': 1799, 'ignore': 1800, 'move': 1801, 'sahuagin': 1802, 'stole': 1803, 'hag': 1804, 'enlists': 1805, 'supposedly': 1806, 'coral': 1807, 'colorful': 1808, 'gems': 1809, 'however': 1810, 'artificer': 1811, 'town’s': 1812, 'terrorized': 1813, 'minotaur’s': 1814, 'investigating': 1815, 'minutes': 1816, 'solving': 1817, 'allows': 1818, '\\u200bhe': 1819, 'tripped': 1820, 'axe': 1821, 'insists': 1822, 'pushed': 1823, 'murderous': 1824, 'presents': 1825, \"children's\": 1826, 'birthdays': 1827, 'multi': 1828, 'tree': 1829, 'structure': 1830, 'kenku': 1831, 'tasks': 1832, 'retrieving': 1833, 'summoning': 1834, 'traps': 1835, 'swinging': 1836, 'razor': 1837, 'blades': 1838, 'fills': 1839, 'sand': 1840, 'snakes': 1841, 'beetles': 1842, 'mummies': 1843, 'responsible': 1844, '\\u200ba': 1845, 'tornado': 1846, 'stood': 1847, 'ten': 1848, 'nervous': 1849, 'giant’s': 1850, 'shiny': 1851, 'objects': 1852, 'valuable': 1853, 'hungry': 1854, 'clockwork': 1855, 'modrons': 1856, 'patrolling': 1857, 'grateful': 1858, 'removed': 1859, 'tortle': 1860, 'lemons': 1861, 'many': 1862, 'grung': 1863, 'cannibals': 1864, 'infecting': 1865, 'figuring': 1866, 'putting': 1867, 'grell': 1868, 'gibbering': 1869, 'mouthers': 1870, 'inhabit': 1871, 'polar': 1872, 'took': 1873, 'original': 1874, 'dragonborn': 1875, 'servants': 1876, 'guard': 1877, 'drakes': 1878, 'warmth': 1879, 'dwarves': 1880, 'freeze': 1881, 'poisoned': 1882, 'makes': 1883, 'tells': 1884, 'researches': 1885, 'loyal': 1886, 'mongrelfolk': 1887, 'flesh': 1888, 'golems': 1889, 'merfolk': 1890, 'raging': 1891, 'sail': 1892, 'cultists': 1893, 'source': 1894, 'cages': 1895, 'transported': 1896, 'woodcutter': 1897, 'instead': 1898, 'plead': 1899, 'brethren': 1900, 'finally': 1901, 'camp': 1902, 'prosecution': 1903, 'defense': 1904, 'evidence': 1905, 'hasn’t': 1906, 'shipped': 1907, 'wood': 1908, 'worry': 1909, 'amnesic': 1910, 'haze': 1911, 'don’t': 1912, 'knowing': 1913, 'parents': 1914, 'unbeknownst': 1915, 'namely': 1916, 'corrupted': 1917, 'comets': 1918, 'grown': 1919, 'share': 1920, 'mentality': 1921, 'controlled': 1922, 'hive': 1923, 'reluctantly': 1924, 'check': 1925, 'stairs': 1926, 'exit': 1927, 'descend': 1928, 'opponent': 1929, 'defeated': 1930, 'oldest': 1931, 'unattended—the': 1932, 'surrounding': 1933, 'beacon': 1934, 'shattered': 1935, 'fragments': 1936, 'litter': 1937, 'beach': 1938, 'restored': 1939, 'knows': 1940, 'sect': 1941, 'infested': 1942, 'eating': 1943, 'wooden': 1944, 'site': 1945, 'charged': 1946, 'dispatching': 1947, 'basket': 1948, 'weaver': 1949, 'broken': 1950, 'sold': 1951, 'brothel': 1952, 'longer': 1953, 'torches': 1954, 'lit': 1955, 'cooked': 1956, 'kilns': 1957, 'fired': 1958, 'restricting': 1959, 'scale': 1960, 'flame': 1961, 'outside': 1962, 'news': 1963, 'spreads': 1964, 'slain': 1965, 'unguarded': 1966, 'underway': 1967, 'thief': 1968, 'troll': 1969, 'study': 1970, 'rat': 1971, 'catchers': 1972, 'spreading': 1973, 'absence': 1974, 'cannot': 1975, 'contain': 1976, 'charismatic': 1977, 'charlatan': 1978, 'proof': 1979, 'cousin': 1980, 'brother': 1981, 'wandering': 1982, 'trades': 1983, 'pc': 1984, 'fake': 1985, 'shipments': 1986, 'miners': 1987, 'covered': 1988, 'welts': 1989, 'apparently': 1990, 'exposure': 1991, 'southern': 1992, 'rift': 1993, 'formed': 1994, 'seeping': 1995, 'hosting': 1996, 'masquerade': 1997, 'guests': 1998, 'costume': 1999, 'actual': 2000, 'attends': 2001, 'age': 2002, 'creeping': 2003, 'dweomers': 2004, 'parts': 2005, 'reassembled': 2006, 'hour': 2007, 'slavers': 2008, 'capturing': 2009, 'merchants': 2010, 'highway': 2011, 'mindflayers': 2012, 'sells': 2013, 'pets': 2014, 'familiars': 2015, 'pc’s': 2016, 'hermit': 2017, '“moving': 2018, 'island”': 2019, 'zircon': 2020, 'circus': 2021, 'faire': 2022, 'completely': 2023, 'vanishes': 2024, 'ur': 2025, 'priest': 2026, 'drawn': 2027, 'animating': 2028, 'elementals': 2029, 'mephits': 2030, 'sewers': 2031, 'waging': 2032, 'guerilla': 2033, 'reads': 2034, 'book': 2035, 'brought': 2036, 'dies': 2037, 'reading': 2038, 'flowers': 2039, 'mouths': 2040, 'cartographical': 2041, 'membership': 2042, 'scavenger': 2043, 'planes': 2044, 'helmed': 2045, 'hooded': 2046, 'masked': 2047, 'forged': 2048, 'impressive': 2049, 'tribes': 2050, 'banner': 2051, 'disheartened': 2052, 'lack': 2053, 'respect': 2054, 'belief': 2055, 'prayer': 2056, 'deity': 2057, 'wolves': 2058, 'failing': 2059, 'entrance': 2060, 'cellar': 2061, 'business': 2062, 'beast': 2063, 'preying': 2064, 'farm': 2065, 'alike': 2066, 'battle': 2067, 'apprentice': 2068, 'cup': 2069, 'green': 2070, 'learn': 2071, 'contacts': 2072, 'reports': 2073, 'sick': 2074, 'disease': 2075, 'easy': 2076, 'prey': 2077, '“red”': 2078, 'demanding': 2079, 'tributes': 2080, 'especially': 2081, 'greedy': 2082, 'copper': 2083, 'stages': 2084, 'similar': 2085, '“holy': 2086, 'man”': 2087, 'relics': 2088, 'guilty': 2089, 'verdicts': 2090, 'logging': 2091, 'camped': 2092, 'haunt': 2093, 'dryad': 2094, 'wine': 2095, 'rural': 2096, 'helpful': 2097, 'aranea': 2098, 'tried': 2099, 'drider': 2100, 'resides': 2101, 'college': 2102, 'teaches': 2103, 'science': 2104, 'arcane': 2105, 'drug': 2106, 'related': 2107, 'deaths': 2108, 'alchemist': 2109, 'worshipped': 2110, 'lizardmen': 2111, 'women': 2112, 'pregnant': 2113, 'circumstances': 2114, 'incubus': 2115, 'avert': 2116, 'catastrophe': 2117, 'levistus': 2118, 'glacier': 2119, 'herb': 2120, 'grow': 2121, 'gith': 2122, 'monasteries': 2123, 'visit': 2124, 'simulacrums': 2125, 'wizards': 2126, 'mark': 2127, 'everywhere': 2128, 'distant': 2129, '20': 2130, 'conflicted': 2131, 'erinyes': 2132, 'cradle': 2133, 'creation': 2134, 'reborn': 2135, 'praetor': 2136, 'dracolich': 2137, 'dracolich’s': 2138, 'freeing': 2139, 'magically': 2140, 'orphanage': 2141, 'sacrifices': 2142, 'allow': 2143, 'teleportation': 2144, 'layers': 2145, 'tool': 2146, 'overmatched': 2147, 'marut': 2148, 'assistance': 2149, 'sword”': 2150, 'dancing': 2151, 'animate': 2152, 'battlefield': 2153, 'heirloom': 2154, 'soldier': 2155, 'tiamat': 2156, 'ages': 2157, 'eggs': 2158, 'raise': 2159, 'illusionist': 2160, 'slay': 2161, 'hundred': 2162, 'earlier': 2163, 'pull': 2164, 'skeleton': 2165, 'animates': 2166, 'add': 2167, 'clear': 2168, 'infestation': 2169, 'insects': 2170, 'invaded': 2171, 'roots': 2172, 'invited': 2173, 'ante': 2174, 'tourney': 2175, 'vips': 2176, 'lawful': 2177, 'faerun': 2178, 'zealous': 2179, 'plundered': 2180, 'burial': 2181, 'ghast': 2182, 'specter': 2183, 'continue': 2184, 'giants': 2185, 'inactive': 2186, 'activity': 2187, 'threatens': 2188, 'awaken': 2189, 'widespread': 2190, 'devastation': 2191, 'grandmotherly': 2192, 'slightly': 2193, 'senile': 2194, 'attic': 2195, 'open': 2196, 'doorway': 2197, 'owned': 2198, 'roaming': 2199, 'bottle': 2200, 'agrees': 2201, 'grant': 2202, 'wishes': 2203, 'brass': 2204, 'cares': 2205, 'wounded': 2206, 'angel': 2207, 'hunted': 2208, 'trap': 2209, 'energy': 2210, 'attributed': 2211, 'doll': 2212, 'slaymate': 2213, 'libris': 2214, 'motris': 2215, 'beholder': 2216, 'underdark': 2217, 'surface': 2218, 'drow': 2219, 'displacing': 2220, 'potions': 2221, 'poisonous': 2222, 'odd': 2223, 'effects': 2224, 'flayers': 2225, 'draining': 2226, 'quintessence': 2227, 'substance': 2228, 'realm': 2229, 'aberrations': 2230, 'came': 2231, 'spelljammer': 2232, 'jungle': 2233, 'materials': 2234, 'repair': 2235, 'foreign': 2236, 'party’s': 2237, 'monk': 2238, 'mission': 2239, 'wreaking': 2240, 'lvl': 2241, '10ish': 2242, 'slow': 2243, '20th': 2244, 'arrive': 2245, 'cr': 2246, '10': 2247, 'outsider': 2248, 'tablet': 2249, 'depicts': 2250, 'fist': 2251, 'spite': 2252, 'bovd': 2253, 'stomach': 2254, 'demiplane': 2255, 'dalmosh': 2256, 'mm5': 2257, 'cooper’s': 2258, 'discredit': 2259, 'winery': 2260, 'argument': 2261, 'poisoning': 2262, 'barrels': 2263, 'astronomer': 2264, 'convinced': 2265, 'normally': 2266, 'inert': 2267, 'gargoyles': 2268, 'atop': 2269, 'mansion': 2270, 'started': 2271, 'approach': 2272, 'building': 2273, 'bulettes': 2274, 'keeping': 2275, 'serial': 2276, 'duergar': 2277, 'traded': 2278, 'asmodeus': 2279, 'unearthly': 2280, 'crafting': 2281, 'reflects': 2282, 'multiverse': 2283, 'scaled': 2284, 'neutral': 2285, 'library': 2286, 'books': 2287, 'sages': 2288, 'librarian': 2289, 'knowledge': 2290, 'enough': 2291, 'buy': 2292, 'given': 2293, 'pocket': 2294, 'dimension': 2295, 'frightened': 2296, 'hides': 2297, 'created': 2298, 'ended': 2299, 'safe': 2300, 'forgotten': 2301, 'finishing': 2302, 'poem': 2303, 'song': 2304, 'movement': 2305, 'chaotic': 2306, 'horselord': 2307, 'cad': 2308, 'huntsman': 2309, 'npc’s': 2310, 'highly': 2311, 'trained': 2312, 'tracker': 2313, 'follow': 2314, 'trail': 2315, 'aged': 2316, 'grizzled': 2317, 'fighter': 2318, 'honorable': 2319, 'combat': 2320, 'diplomatic': 2321, 'journey': 2322, 'prince': 2323, 'strangely': 2324, 'look': 2325, 'charmed': 2326, 'pair': 2327, 'ethereal': 2328, 'filchers': 2329, 'curative': 2330, 'code': 2331, 'etched': 2332, 'onto': 2333, 'paces': 2334, 'deadly': 2335, 'monthly': 2336, 'blamed': 2337, 'lycan': 2338, 'carried': 2339, 'mm2': 2340, 'thoqqua': 2341, 'compromise': 2342, 'structural': 2343, 'integrity': 2344, 'melt': 2345, 'centaur': 2346, 'sought': 2347, 'patrons': 2348, 'desert': 2349, 'despotic': 2350, 'charges': 2351, 'impossibly': 2352, 'rates': 2353, 'fresh': 2354, 'bards': 2355, 'music': 2356, 'played': 2357, 'sun': 2358, 'sundown': 2359, 'problem': 2360, 'recalls': 2361, 'obscure': 2362, 'holiday': 2363, 'vaults': 2364, 'church': 2365, 'xenophobic': 2366, 'elvish': 2367, 'arrest': 2368, 'elves': 2369, 'eloped': 2370}\n"
          ]
        }
      ]
    },
    {
      "cell_type": "code",
      "source": [
        "class myCallback(tf.keras.callbacks.Callback):\n",
        "\tdef on_epoch_end(self, epoch, logs={}):\n",
        "\t\tif(logs.get('accuracy')>0.93):\n",
        "\t\t\tprint(\"\\nReached 93% accuracy so cancelling training!\")\n",
        "\t\t\tself.model.stop_training = True\n",
        "\n",
        "callbacks = myCallback()"
      ],
      "metadata": {
        "id": "R5U1QJO_w7KJ"
      },
      "execution_count": null,
      "outputs": []
    },
    {
      "cell_type": "code",
      "metadata": {
        "id": "w9vH8Y59ajYL",
        "colab": {
          "base_uri": "https://localhost:8080/"
        },
        "outputId": "32227341-417d-493d-ef04-e9ee1ae69ad9"
      },
      "source": [
        "model = Sequential()\n",
        "model.add(Embedding(total_words, 100, input_length=max_sequence_len-1))\n",
        "model.add(Bidirectional(LSTM(150)))\n",
        "model.add(Dense(total_words, activation='softmax'))\n",
        "adam = Adam(lr=0.01)\n",
        "model.compile(loss='categorical_crossentropy', optimizer=adam, metrics=['accuracy'])\n",
        "#earlystop = EarlyStopping(monitor='val_loss', min_delta=0, patience=5, verbose=0, mode='auto')\n",
        "#history = model.fit(xs, ys, epochs=100, verbose=1)\n",
        "print(model.summary())\n",
        "#print(model)"
      ],
      "execution_count": null,
      "outputs": [
        {
          "output_type": "stream",
          "name": "stdout",
          "text": [
            "Model: \"sequential_2\"\n",
            "_________________________________________________________________\n",
            " Layer (type)                Output Shape              Param #   \n",
            "=================================================================\n",
            " embedding_2 (Embedding)     (None, 97, 100)           237100    \n",
            "                                                                 \n",
            " bidirectional_2 (Bidirectio  (None, 300)              301200    \n",
            " nal)                                                            \n",
            "                                                                 \n",
            " dense_3 (Dense)             (None, 2371)              713671    \n",
            "                                                                 \n",
            "=================================================================\n",
            "Total params: 1,251,971\n",
            "Trainable params: 1,251,971\n",
            "Non-trainable params: 0\n",
            "_________________________________________________________________\n",
            "None\n"
          ]
        },
        {
          "output_type": "stream",
          "name": "stderr",
          "text": [
            "/usr/local/lib/python3.7/dist-packages/keras/optimizer_v2/adam.py:105: UserWarning: The `lr` argument is deprecated, use `learning_rate` instead.\n",
            "  super(Adam, self).__init__(name, **kwargs)\n"
          ]
        }
      ]
    },
    {
      "cell_type": "code",
      "source": [
        "history = model.fit(xs, ys, epochs=100, verbose=1, callbacks=[callbacks])"
      ],
      "metadata": {
        "colab": {
          "base_uri": "https://localhost:8080/"
        },
        "id": "3fLk1eYuY5Mn",
        "outputId": "5e94cbfc-844a-4060-e37b-611dac952e01"
      },
      "execution_count": null,
      "outputs": [
        {
          "output_type": "stream",
          "name": "stdout",
          "text": [
            "Epoch 1/100\n",
            "266/266 [==============================] - 7s 15ms/step - loss: 6.7975 - accuracy: 0.0575\n",
            "Epoch 2/100\n",
            "266/266 [==============================] - 4s 14ms/step - loss: 5.8214 - accuracy: 0.1074\n",
            "Epoch 3/100\n",
            "266/266 [==============================] - 4s 14ms/step - loss: 5.0164 - accuracy: 0.1578\n",
            "Epoch 4/100\n",
            "266/266 [==============================] - 4s 14ms/step - loss: 4.0397 - accuracy: 0.2269\n",
            "Epoch 5/100\n",
            "266/266 [==============================] - 4s 14ms/step - loss: 3.0344 - accuracy: 0.3474\n",
            "Epoch 6/100\n",
            "266/266 [==============================] - 4s 14ms/step - loss: 2.1558 - accuracy: 0.5011\n",
            "Epoch 7/100\n",
            "266/266 [==============================] - 4s 15ms/step - loss: 1.5206 - accuracy: 0.6323\n",
            "Epoch 8/100\n",
            "266/266 [==============================] - 4s 15ms/step - loss: 1.0605 - accuracy: 0.7471\n",
            "Epoch 9/100\n",
            "266/266 [==============================] - 4s 15ms/step - loss: 0.7146 - accuracy: 0.8344\n",
            "Epoch 10/100\n",
            "266/266 [==============================] - 4s 15ms/step - loss: 0.5000 - accuracy: 0.8947\n",
            "Epoch 11/100\n",
            "266/266 [==============================] - 4s 15ms/step - loss: 0.3679 - accuracy: 0.9253\n",
            "Epoch 12/100\n",
            "264/266 [============================>.] - ETA: 0s - loss: 0.2918 - accuracy: 0.9408\n",
            "Reached 93% accuracy so cancelling training!\n",
            "266/266 [==============================] - 4s 14ms/step - loss: 0.2950 - accuracy: 0.9402\n"
          ]
        }
      ]
    },
    {
      "cell_type": "code",
      "source": [
        "model2 = Sequential()\n",
        "model2.add(Embedding(total_words, 240, input_length=max_sequence_len-1))\n",
        "model2.add(Bidirectional(LSTM(150, return_sequences = True)))\n",
        "#model2.add(Dropout(0.2))\n",
        "model2.add(LSTM(100))\n",
        "model2.add(Dense(total_words/2, activation='relu', kernel_regularizer=regularizers.l2(0.01)))\n",
        "model2.add(Dense(total_words, activation='softmax'))\n",
        "model2.compile(loss='categorical_crossentropy', optimizer='adam', metrics=['accuracy'])\n",
        "print(model2.summary())"
      ],
      "metadata": {
        "colab": {
          "base_uri": "https://localhost:8080/"
        },
        "id": "ZZ06yXrPYspC",
        "outputId": "4a960f90-08b7-4afb-adb5-b4d32f293f7e"
      },
      "execution_count": null,
      "outputs": [
        {
          "output_type": "stream",
          "name": "stdout",
          "text": [
            "Model: \"sequential_3\"\n",
            "_________________________________________________________________\n",
            " Layer (type)                Output Shape              Param #   \n",
            "=================================================================\n",
            " embedding_3 (Embedding)     (None, 97, 240)           569040    \n",
            "                                                                 \n",
            " bidirectional_3 (Bidirectio  (None, 97, 300)          469200    \n",
            " nal)                                                            \n",
            "                                                                 \n",
            " lstm_5 (LSTM)               (None, 100)               160400    \n",
            "                                                                 \n",
            " dense_4 (Dense)             (None, 1185)              119685    \n",
            "                                                                 \n",
            " dense_5 (Dense)             (None, 2371)              2812006   \n",
            "                                                                 \n",
            "=================================================================\n",
            "Total params: 4,130,331\n",
            "Trainable params: 4,130,331\n",
            "Non-trainable params: 0\n",
            "_________________________________________________________________\n",
            "None\n"
          ]
        }
      ]
    },
    {
      "cell_type": "code",
      "source": [
        "history2 = model2.fit(xs, ys, epochs=300, verbose=1, callbacks=[callbacks])"
      ],
      "metadata": {
        "colab": {
          "base_uri": "https://localhost:8080/"
        },
        "id": "K-vrkwcZY54w",
        "outputId": "3d98930f-4391-42b1-ce90-5cb5f2a0c323"
      },
      "execution_count": null,
      "outputs": [
        {
          "output_type": "stream",
          "name": "stdout",
          "text": [
            "Epoch 1/300\n",
            "266/266 [==============================] - 9s 19ms/step - loss: 6.8624 - accuracy: 0.0595\n",
            "Epoch 2/300\n",
            "266/266 [==============================] - 5s 19ms/step - loss: 6.1869 - accuracy: 0.0668\n",
            "Epoch 3/300\n",
            "266/266 [==============================] - 5s 19ms/step - loss: 5.9604 - accuracy: 0.0727\n",
            "Epoch 4/300\n",
            "266/266 [==============================] - 5s 18ms/step - loss: 5.8295 - accuracy: 0.0800\n",
            "Epoch 5/300\n",
            "266/266 [==============================] - 5s 19ms/step - loss: 5.7023 - accuracy: 0.0845\n",
            "Epoch 6/300\n",
            "266/266 [==============================] - 5s 18ms/step - loss: 5.5589 - accuracy: 0.0933\n",
            "Epoch 7/300\n",
            "266/266 [==============================] - 5s 18ms/step - loss: 5.4295 - accuracy: 0.1093\n",
            "Epoch 8/300\n",
            "266/266 [==============================] - 5s 19ms/step - loss: 5.3227 - accuracy: 0.1160\n",
            "Epoch 9/300\n",
            "266/266 [==============================] - 5s 19ms/step - loss: 5.2314 - accuracy: 0.1217\n",
            "Epoch 10/300\n",
            "266/266 [==============================] - 5s 19ms/step - loss: 5.1290 - accuracy: 0.1322\n",
            "Epoch 11/300\n",
            "266/266 [==============================] - 5s 19ms/step - loss: 5.0369 - accuracy: 0.1430\n",
            "Epoch 12/300\n",
            "266/266 [==============================] - 5s 19ms/step - loss: 4.9423 - accuracy: 0.1487\n",
            "Epoch 13/300\n",
            "266/266 [==============================] - 5s 19ms/step - loss: 4.8406 - accuracy: 0.1604\n",
            "Epoch 14/300\n",
            "266/266 [==============================] - 5s 18ms/step - loss: 4.7362 - accuracy: 0.1703\n",
            "Epoch 15/300\n",
            "266/266 [==============================] - 5s 19ms/step - loss: 4.6435 - accuracy: 0.1810\n",
            "Epoch 16/300\n",
            "266/266 [==============================] - 5s 19ms/step - loss: 4.5471 - accuracy: 0.1918\n",
            "Epoch 17/300\n",
            "266/266 [==============================] - 5s 19ms/step - loss: 4.4548 - accuracy: 0.2060\n",
            "Epoch 18/300\n",
            "266/266 [==============================] - 5s 19ms/step - loss: 4.3584 - accuracy: 0.2142\n",
            "Epoch 19/300\n",
            "266/266 [==============================] - 5s 19ms/step - loss: 4.2693 - accuracy: 0.2254\n",
            "Epoch 20/300\n",
            "266/266 [==============================] - 5s 19ms/step - loss: 4.1786 - accuracy: 0.2348\n",
            "Epoch 21/300\n",
            "266/266 [==============================] - 5s 19ms/step - loss: 4.0927 - accuracy: 0.2438\n",
            "Epoch 22/300\n",
            "266/266 [==============================] - 5s 19ms/step - loss: 4.0225 - accuracy: 0.2515\n",
            "Epoch 23/300\n",
            "266/266 [==============================] - 5s 18ms/step - loss: 3.9370 - accuracy: 0.2590\n",
            "Epoch 24/300\n",
            "266/266 [==============================] - 5s 19ms/step - loss: 3.8477 - accuracy: 0.2705\n",
            "Epoch 25/300\n",
            "266/266 [==============================] - 5s 19ms/step - loss: 3.7668 - accuracy: 0.2841\n",
            "Epoch 26/300\n",
            "266/266 [==============================] - 5s 19ms/step - loss: 3.6969 - accuracy: 0.2853\n",
            "Epoch 27/300\n",
            "266/266 [==============================] - 5s 19ms/step - loss: 3.6141 - accuracy: 0.2996\n",
            "Epoch 28/300\n",
            "266/266 [==============================] - 5s 19ms/step - loss: 3.5315 - accuracy: 0.3068\n",
            "Epoch 29/300\n",
            "266/266 [==============================] - 5s 19ms/step - loss: 3.4564 - accuracy: 0.3216\n",
            "Epoch 30/300\n",
            "266/266 [==============================] - 5s 18ms/step - loss: 3.3808 - accuracy: 0.3315\n",
            "Epoch 31/300\n",
            "266/266 [==============================] - 5s 19ms/step - loss: 3.3049 - accuracy: 0.3417\n",
            "Epoch 32/300\n",
            "266/266 [==============================] - 5s 19ms/step - loss: 3.2231 - accuracy: 0.3532\n",
            "Epoch 33/300\n",
            "266/266 [==============================] - 5s 19ms/step - loss: 3.1434 - accuracy: 0.3729\n",
            "Epoch 34/300\n",
            "266/266 [==============================] - 5s 19ms/step - loss: 3.0699 - accuracy: 0.3833\n",
            "Epoch 35/300\n",
            "266/266 [==============================] - 5s 19ms/step - loss: 2.9902 - accuracy: 0.4036\n",
            "Epoch 36/300\n",
            "266/266 [==============================] - 5s 19ms/step - loss: 2.9293 - accuracy: 0.4151\n",
            "Epoch 37/300\n",
            "266/266 [==============================] - 5s 19ms/step - loss: 2.8525 - accuracy: 0.4326\n",
            "Epoch 38/300\n",
            "266/266 [==============================] - 5s 19ms/step - loss: 2.7774 - accuracy: 0.4497\n",
            "Epoch 39/300\n",
            "266/266 [==============================] - 5s 19ms/step - loss: 2.7155 - accuracy: 0.4633\n",
            "Epoch 40/300\n",
            "266/266 [==============================] - 5s 19ms/step - loss: 2.6393 - accuracy: 0.4878\n",
            "Epoch 41/300\n",
            "266/266 [==============================] - 5s 19ms/step - loss: 2.5761 - accuracy: 0.4998\n",
            "Epoch 42/300\n",
            "266/266 [==============================] - 5s 19ms/step - loss: 2.5067 - accuracy: 0.5173\n",
            "Epoch 43/300\n",
            "266/266 [==============================] - 5s 19ms/step - loss: 2.4401 - accuracy: 0.5303\n",
            "Epoch 44/300\n",
            "266/266 [==============================] - 5s 19ms/step - loss: 2.3811 - accuracy: 0.5446\n",
            "Epoch 45/300\n",
            "266/266 [==============================] - 5s 19ms/step - loss: 2.3184 - accuracy: 0.5635\n",
            "Epoch 46/300\n",
            "266/266 [==============================] - 5s 19ms/step - loss: 2.2574 - accuracy: 0.5776\n",
            "Epoch 47/300\n",
            "266/266 [==============================] - 5s 19ms/step - loss: 2.1949 - accuracy: 0.5964\n",
            "Epoch 48/300\n",
            "266/266 [==============================] - 5s 19ms/step - loss: 2.1342 - accuracy: 0.6114\n",
            "Epoch 49/300\n",
            "266/266 [==============================] - 5s 19ms/step - loss: 2.0638 - accuracy: 0.6261\n",
            "Epoch 50/300\n",
            "266/266 [==============================] - 5s 19ms/step - loss: 2.0096 - accuracy: 0.6431\n",
            "Epoch 51/300\n",
            "266/266 [==============================] - 5s 19ms/step - loss: 1.9590 - accuracy: 0.6553\n",
            "Epoch 52/300\n",
            "266/266 [==============================] - 5s 19ms/step - loss: 1.9124 - accuracy: 0.6664\n",
            "Epoch 53/300\n",
            "266/266 [==============================] - 5s 19ms/step - loss: 1.8592 - accuracy: 0.6778\n",
            "Epoch 54/300\n",
            "266/266 [==============================] - 5s 19ms/step - loss: 1.8150 - accuracy: 0.6901\n",
            "Epoch 55/300\n",
            "266/266 [==============================] - 5s 19ms/step - loss: 1.7710 - accuracy: 0.6909\n",
            "Epoch 56/300\n",
            "266/266 [==============================] - 5s 19ms/step - loss: 1.7234 - accuracy: 0.7095\n",
            "Epoch 57/300\n",
            "266/266 [==============================] - 5s 19ms/step - loss: 1.6763 - accuracy: 0.7183\n",
            "Epoch 58/300\n",
            "266/266 [==============================] - 5s 19ms/step - loss: 1.6325 - accuracy: 0.7329\n",
            "Epoch 59/300\n",
            "266/266 [==============================] - 5s 19ms/step - loss: 1.6085 - accuracy: 0.7354\n",
            "Epoch 60/300\n",
            "266/266 [==============================] - 5s 19ms/step - loss: 1.5686 - accuracy: 0.7409\n",
            "Epoch 61/300\n",
            "266/266 [==============================] - 5s 19ms/step - loss: 1.5125 - accuracy: 0.7616\n",
            "Epoch 62/300\n",
            "266/266 [==============================] - 5s 19ms/step - loss: 1.4723 - accuracy: 0.7685\n",
            "Epoch 63/300\n",
            "266/266 [==============================] - 5s 19ms/step - loss: 1.4329 - accuracy: 0.7741\n",
            "Epoch 64/300\n",
            "266/266 [==============================] - 5s 19ms/step - loss: 1.3949 - accuracy: 0.7858\n",
            "Epoch 65/300\n",
            "266/266 [==============================] - 5s 19ms/step - loss: 1.3523 - accuracy: 0.7950\n",
            "Epoch 66/300\n",
            "266/266 [==============================] - 5s 19ms/step - loss: 1.3220 - accuracy: 0.7970\n",
            "Epoch 67/300\n",
            "266/266 [==============================] - 5s 19ms/step - loss: 1.2887 - accuracy: 0.8052\n",
            "Epoch 68/300\n",
            "266/266 [==============================] - 5s 19ms/step - loss: 1.2847 - accuracy: 0.8056\n",
            "Epoch 69/300\n",
            "266/266 [==============================] - 5s 19ms/step - loss: 1.2641 - accuracy: 0.8109\n",
            "Epoch 70/300\n",
            "266/266 [==============================] - 5s 19ms/step - loss: 1.2405 - accuracy: 0.8147\n",
            "Epoch 71/300\n",
            "266/266 [==============================] - 5s 19ms/step - loss: 1.2068 - accuracy: 0.8179\n",
            "Epoch 72/300\n",
            "266/266 [==============================] - 5s 19ms/step - loss: 1.2018 - accuracy: 0.8179\n",
            "Epoch 73/300\n",
            "266/266 [==============================] - 5s 19ms/step - loss: 1.1582 - accuracy: 0.8310\n",
            "Epoch 74/300\n",
            "266/266 [==============================] - 5s 19ms/step - loss: 1.0961 - accuracy: 0.8437\n",
            "Epoch 75/300\n",
            "266/266 [==============================] - 5s 19ms/step - loss: 1.0534 - accuracy: 0.8519\n",
            "Epoch 76/300\n",
            "266/266 [==============================] - 5s 19ms/step - loss: 1.0293 - accuracy: 0.8567\n",
            "Epoch 77/300\n",
            "266/266 [==============================] - 5s 19ms/step - loss: 1.0287 - accuracy: 0.8540\n",
            "Epoch 78/300\n",
            "266/266 [==============================] - 5s 19ms/step - loss: 1.0057 - accuracy: 0.8579\n",
            "Epoch 79/300\n",
            "266/266 [==============================] - 5s 19ms/step - loss: 0.9912 - accuracy: 0.8626\n",
            "Epoch 80/300\n",
            "266/266 [==============================] - 5s 19ms/step - loss: 1.0056 - accuracy: 0.8565\n",
            "Epoch 81/300\n",
            "266/266 [==============================] - 5s 19ms/step - loss: 1.0137 - accuracy: 0.8526\n",
            "Epoch 82/300\n",
            "266/266 [==============================] - 5s 19ms/step - loss: 0.9660 - accuracy: 0.8670\n",
            "Epoch 83/300\n",
            "266/266 [==============================] - 5s 19ms/step - loss: 0.9128 - accuracy: 0.8773\n",
            "Epoch 84/300\n",
            "266/266 [==============================] - 5s 19ms/step - loss: 0.8945 - accuracy: 0.8811\n",
            "Epoch 85/300\n",
            "266/266 [==============================] - 5s 19ms/step - loss: 0.8614 - accuracy: 0.8892\n",
            "Epoch 86/300\n",
            "266/266 [==============================] - 5s 19ms/step - loss: 0.8301 - accuracy: 0.8917\n",
            "Epoch 87/300\n",
            "266/266 [==============================] - 5s 19ms/step - loss: 0.8170 - accuracy: 0.8997\n",
            "Epoch 88/300\n",
            "266/266 [==============================] - 5s 19ms/step - loss: 0.7955 - accuracy: 0.8999\n",
            "Epoch 89/300\n",
            "266/266 [==============================] - 5s 19ms/step - loss: 0.7790 - accuracy: 0.9031\n",
            "Epoch 90/300\n",
            "266/266 [==============================] - 5s 19ms/step - loss: 0.7905 - accuracy: 0.9033\n",
            "Epoch 91/300\n",
            "266/266 [==============================] - 5s 19ms/step - loss: 0.8001 - accuracy: 0.8960\n",
            "Epoch 92/300\n",
            "266/266 [==============================] - 5s 19ms/step - loss: 0.8239 - accuracy: 0.8899\n",
            "Epoch 93/300\n",
            "266/266 [==============================] - 5s 19ms/step - loss: 0.8030 - accuracy: 0.8970\n",
            "Epoch 94/300\n",
            "266/266 [==============================] - 5s 19ms/step - loss: 0.7517 - accuracy: 0.9086\n",
            "Epoch 95/300\n",
            "266/266 [==============================] - 5s 19ms/step - loss: 0.7144 - accuracy: 0.9158\n",
            "Epoch 96/300\n",
            "266/266 [==============================] - 5s 19ms/step - loss: 0.6902 - accuracy: 0.9220\n",
            "Epoch 97/300\n",
            "266/266 [==============================] - 5s 19ms/step - loss: 0.6630 - accuracy: 0.9221\n",
            "Epoch 98/300\n",
            "266/266 [==============================] - 5s 19ms/step - loss: 0.6495 - accuracy: 0.9264\n",
            "Epoch 99/300\n",
            "266/266 [==============================] - 5s 19ms/step - loss: 0.6375 - accuracy: 0.9292\n",
            "Epoch 100/300\n",
            "266/266 [==============================] - 5s 18ms/step - loss: 0.6606 - accuracy: 0.9221\n",
            "Epoch 101/300\n",
            "266/266 [==============================] - 5s 19ms/step - loss: 0.7088 - accuracy: 0.9130\n",
            "Epoch 102/300\n",
            "266/266 [==============================] - 5s 19ms/step - loss: 0.7713 - accuracy: 0.8980\n",
            "Epoch 103/300\n",
            "266/266 [==============================] - 5s 19ms/step - loss: 0.6972 - accuracy: 0.9157\n",
            "Epoch 104/300\n",
            "266/266 [==============================] - 5s 19ms/step - loss: 0.6338 - accuracy: 0.9278\n",
            "Epoch 105/300\n",
            "265/266 [============================>.] - ETA: 0s - loss: 0.5989 - accuracy: 0.9363\n",
            "Reached 93% accuracy so cancelling training!\n",
            "266/266 [==============================] - 5s 19ms/step - loss: 0.5984 - accuracy: 0.9364\n"
          ]
        }
      ]
    },
    {
      "cell_type": "code",
      "metadata": {
        "id": "3YXGelKThoTT"
      },
      "source": [
        "import matplotlib.pyplot as plt\n",
        "\n",
        "def plot_graphs(history, string):\n",
        "  plt.plot(history.history[string])\n",
        "  plt.xlabel(\"Epochs\")\n",
        "  plt.ylabel(string)\n",
        "  plt.show()"
      ],
      "execution_count": null,
      "outputs": []
    },
    {
      "cell_type": "code",
      "metadata": {
        "id": "poeprYK8h-c7",
        "colab": {
          "base_uri": "https://localhost:8080/",
          "height": 279
        },
        "outputId": "c98b36dd-299b-400d-84af-198f675a50d8"
      },
      "source": [
        "plot_graphs(history, 'accuracy')"
      ],
      "execution_count": null,
      "outputs": [
        {
          "output_type": "display_data",
          "data": {
            "text/plain": [
              "<Figure size 432x288 with 1 Axes>"
            ],
            "image/png": "[encoded data removed]"
          },
          "metadata": {
            "needs_background": "light"
          }
        }
      ]
    },
    {
      "cell_type": "code",
      "source": [
        "plot_graphs(history2, 'accuracy')"
      ],
      "metadata": {
        "colab": {
          "base_uri": "https://localhost:8080/",
          "height": 279
        },
        "id": "4zPuOdbixHIj",
        "outputId": "6ecd4979-56f2-451b-cd5e-97ce34071b62"
      },
      "execution_count": null,
      "outputs": [
        {
          "output_type": "display_data",
          "data": {
            "text/plain": [
              "<Figure size 432x288 with 1 Axes>"
            ],
            "image/png": "[encoded data removed]"
          },
          "metadata": {
            "needs_background": "light"
          }
        }
      ]
    },
    {
      "cell_type": "code",
      "source": [
        "#@title Preambulo inicial\n",
        "seed_text = \"The god of sun came to the earth to help the inca empire\" #@param {type:\"string\"}\n",
        "next_words = 22 #@param {type:\"number\"}\n"
      ],
      "metadata": {
        "cellView": "form",
        "id": "dm_Cdrrzi15X"
      },
      "execution_count": 27,
      "outputs": []
    },
    {
      "cell_type": "code",
      "source": [
        "model = load_model('tgddv2.h5')\n",
        "model2 = load_model('tgdd2v2.h5')"
      ],
      "metadata": {
        "id": "ZeCtQaDNHr_Z"
      },
      "execution_count": 6,
      "outputs": []
    },
    {
      "cell_type": "markdown",
      "source": [
        "# Modelo 1"
      ],
      "metadata": {
        "id": "LO_Nt_CpkOMS"
      }
    },
    {
      "cell_type": "code",
      "metadata": {
        "id": "6Vc6PHgxa6Hm",
        "colab": {
          "base_uri": "https://localhost:8080/"
        },
        "outputId": "211bdacc-c492-4a46-990d-1ad314d149b0"
      },
      "source": [
        "res_text = seed_text\n",
        "#next_words = 10\n",
        "  \n",
        "for _ in range(next_words):\n",
        "\ttoken_list = tokenizer.texts_to_sequences([res_text])[0]\n",
        "\ttoken_list = pad_sequences([token_list], maxlen=max_sequence_len-1, padding='pre')\n",
        "\tpredicted = np.argmax(model.predict(token_list), axis=-1)\n",
        "\toutput_word = \"\"\n",
        "\tfor word, index in tokenizer.word_index.items():\n",
        "\t\tif index == predicted:\n",
        "\t\t\toutput_word = word\n",
        "\t\t\tbreak\n",
        "\tres_text += \" \" + output_word\n",
        "print(res_text)"
      ],
      "execution_count": 28,
      "outputs": [
        {
          "output_type": "stream",
          "name": "stdout",
          "text": [
            "The god of sun came to the earth to help the inca empire country city it is being held under siege by monsters possibly voadkyn these voadkyn wish “the sacred” if the sacred” is returned\n"
          ]
        }
      ]
    },
    {
      "cell_type": "markdown",
      "source": [
        "# Modelo 2"
      ],
      "metadata": {
        "id": "LnwDzVL8kLg6"
      }
    },
    {
      "cell_type": "code",
      "source": [
        "res_text = seed_text\n",
        "#next_words = 10\n",
        "  \n",
        "for _ in range(next_words):\n",
        "\ttoken_list = tokenizer.texts_to_sequences([res_text])[0]\n",
        "\ttoken_list = pad_sequences([token_list], maxlen=max_sequence_len-1, padding='pre')\n",
        "\tpredicted = np.argmax(model2.predict(token_list), axis=-1)\n",
        "\toutput_word = \"\"\n",
        "\tfor word, index in tokenizer.word_index.items():\n",
        "\t\tif index == predicted:\n",
        "\t\t\toutput_word = word\n",
        "\t\t\tbreak\n",
        "\tres_text += \" \" + output_word\n",
        "print(res_text)"
      ],
      "metadata": {
        "colab": {
          "base_uri": "https://localhost:8080/"
        },
        "id": "_hzNi9s7uygL",
        "outputId": "35ed44ac-3ea6-4bd1-e7fe-014d302df084"
      },
      "execution_count": 29,
      "outputs": [
        {
          "output_type": "stream",
          "name": "stdout",
          "text": [
            "The god of sun came to the earth to help the inca empire temple up adventurers with adventurers when what they win to bring them an imperial city for if peace from an evil magical\n"
          ]
        }
      ]
    },
    {
      "cell_type": "code",
      "source": [
        "#model.save('tgddv2.h5')\n",
        "#model2.save('tgdd2v2.h5')"
      ],
      "metadata": {
        "id": "8F079ERl3Rjw"
      },
      "execution_count": null,
      "outputs": []
    }
  ]
}